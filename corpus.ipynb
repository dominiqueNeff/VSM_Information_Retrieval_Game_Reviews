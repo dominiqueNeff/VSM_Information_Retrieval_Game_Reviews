{
 "cells": [
  {
   "cell_type": "markdown",
   "metadata": {},
   "source": [
    "# Packages importieren"
   ]
  },
  {
   "cell_type": "code",
   "execution_count": 1,
   "metadata": {},
   "outputs": [],
   "source": [
    "import pandas as pd\n",
    "from langdetect import detect\n",
    "\n",
    "import pickle\n",
    "import numpy as np\n",
    "\n",
    "from nltk import word_tokenize\n",
    "from nltk.corpus import stopwords\n",
    "from nltk.stem import SnowballStemmer\n",
    "\n",
    "import string\n"
   ]
  },
  {
   "cell_type": "markdown",
   "metadata": {},
   "source": [
    "# Steam Reviews Datensatz einlesen"
   ]
  },
  {
   "cell_type": "code",
   "execution_count": 2,
   "metadata": {},
   "outputs": [
    {
     "data": {
      "text/html": [
       "<div>\n",
       "<style scoped>\n",
       "    .dataframe tbody tr th:only-of-type {\n",
       "        vertical-align: middle;\n",
       "    }\n",
       "\n",
       "    .dataframe tbody tr th {\n",
       "        vertical-align: top;\n",
       "    }\n",
       "\n",
       "    .dataframe thead th {\n",
       "        text-align: right;\n",
       "    }\n",
       "</style>\n",
       "<table border=\"1\" class=\"dataframe\">\n",
       "  <thead>\n",
       "    <tr style=\"text-align: right;\">\n",
       "      <th></th>\n",
       "      <th>date_posted</th>\n",
       "      <th>funny</th>\n",
       "      <th>helpful</th>\n",
       "      <th>hour_played</th>\n",
       "      <th>is_early_access_review</th>\n",
       "      <th>recommendation</th>\n",
       "      <th>review</th>\n",
       "      <th>title</th>\n",
       "    </tr>\n",
       "  </thead>\n",
       "  <tbody>\n",
       "    <tr>\n",
       "      <td>0</td>\n",
       "      <td>2019-02-10</td>\n",
       "      <td>2</td>\n",
       "      <td>4</td>\n",
       "      <td>578</td>\n",
       "      <td>False</td>\n",
       "      <td>Recommended</td>\n",
       "      <td>&amp;gt Played as German Reich&amp;gt Declare war on B...</td>\n",
       "      <td>Expansion - Hearts of Iron IV: Man the Guns</td>\n",
       "    </tr>\n",
       "    <tr>\n",
       "      <td>1</td>\n",
       "      <td>2019-02-10</td>\n",
       "      <td>0</td>\n",
       "      <td>0</td>\n",
       "      <td>184</td>\n",
       "      <td>False</td>\n",
       "      <td>Recommended</td>\n",
       "      <td>yes.</td>\n",
       "      <td>Expansion - Hearts of Iron IV: Man the Guns</td>\n",
       "    </tr>\n",
       "    <tr>\n",
       "      <td>2</td>\n",
       "      <td>2019-02-07</td>\n",
       "      <td>0</td>\n",
       "      <td>0</td>\n",
       "      <td>892</td>\n",
       "      <td>False</td>\n",
       "      <td>Recommended</td>\n",
       "      <td>Very good game although a bit overpriced in my...</td>\n",
       "      <td>Expansion - Hearts of Iron IV: Man the Guns</td>\n",
       "    </tr>\n",
       "    <tr>\n",
       "      <td>3</td>\n",
       "      <td>2018-06-14</td>\n",
       "      <td>126</td>\n",
       "      <td>1086</td>\n",
       "      <td>676</td>\n",
       "      <td>False</td>\n",
       "      <td>Recommended</td>\n",
       "      <td>Out of all the reviews I wrote This one is pro...</td>\n",
       "      <td>Dead by Daylight</td>\n",
       "    </tr>\n",
       "    <tr>\n",
       "      <td>4</td>\n",
       "      <td>2017-06-20</td>\n",
       "      <td>85</td>\n",
       "      <td>2139</td>\n",
       "      <td>612</td>\n",
       "      <td>False</td>\n",
       "      <td>Recommended</td>\n",
       "      <td>Disclaimer I survivor main. I play games for f...</td>\n",
       "      <td>Dead by Daylight</td>\n",
       "    </tr>\n",
       "    <tr>\n",
       "      <td>5</td>\n",
       "      <td>2016-12-12</td>\n",
       "      <td>4</td>\n",
       "      <td>55</td>\n",
       "      <td>2694</td>\n",
       "      <td>False</td>\n",
       "      <td>Recommended</td>\n",
       "      <td>ENGLISH After playing for more than two years ...</td>\n",
       "      <td>Dead by Daylight</td>\n",
       "    </tr>\n",
       "    <tr>\n",
       "      <td>6</td>\n",
       "      <td>2017-09-17</td>\n",
       "      <td>12</td>\n",
       "      <td>228</td>\n",
       "      <td>48</td>\n",
       "      <td>False</td>\n",
       "      <td>Recommended</td>\n",
       "      <td>Out of all the reviews I wrote This one is pro...</td>\n",
       "      <td>Dead by Daylight</td>\n",
       "    </tr>\n",
       "    <tr>\n",
       "      <td>7</td>\n",
       "      <td>2018-12-24</td>\n",
       "      <td>295</td>\n",
       "      <td>219</td>\n",
       "      <td>71</td>\n",
       "      <td>False</td>\n",
       "      <td>Recommended</td>\n",
       "      <td>I have never been told to kill myself more tha...</td>\n",
       "      <td>Dead by Daylight</td>\n",
       "    </tr>\n",
       "    <tr>\n",
       "      <td>8</td>\n",
       "      <td>2018-09-21</td>\n",
       "      <td>2</td>\n",
       "      <td>54</td>\n",
       "      <td>400</td>\n",
       "      <td>False</td>\n",
       "      <td>Recommended</td>\n",
       "      <td>Any longtime Dead by Daylight player knows tha...</td>\n",
       "      <td>Dead by Daylight</td>\n",
       "    </tr>\n",
       "    <tr>\n",
       "      <td>9</td>\n",
       "      <td>2018-12-05</td>\n",
       "      <td>380</td>\n",
       "      <td>271</td>\n",
       "      <td>414</td>\n",
       "      <td>False</td>\n",
       "      <td>Recommended</td>\n",
       "      <td>if you think cs go is toxic try this game</td>\n",
       "      <td>Dead by Daylight</td>\n",
       "    </tr>\n",
       "  </tbody>\n",
       "</table>\n",
       "</div>"
      ],
      "text/plain": [
       "  date_posted  funny  helpful  hour_played  is_early_access_review  \\\n",
       "0  2019-02-10      2        4          578                   False   \n",
       "1  2019-02-10      0        0          184                   False   \n",
       "2  2019-02-07      0        0          892                   False   \n",
       "3  2018-06-14    126     1086          676                   False   \n",
       "4  2017-06-20     85     2139          612                   False   \n",
       "5  2016-12-12      4       55         2694                   False   \n",
       "6  2017-09-17     12      228           48                   False   \n",
       "7  2018-12-24    295      219           71                   False   \n",
       "8  2018-09-21      2       54          400                   False   \n",
       "9  2018-12-05    380      271          414                   False   \n",
       "\n",
       "  recommendation                                             review  \\\n",
       "0    Recommended  &gt Played as German Reich&gt Declare war on B...   \n",
       "1    Recommended                                               yes.   \n",
       "2    Recommended  Very good game although a bit overpriced in my...   \n",
       "3    Recommended  Out of all the reviews I wrote This one is pro...   \n",
       "4    Recommended  Disclaimer I survivor main. I play games for f...   \n",
       "5    Recommended  ENGLISH After playing for more than two years ...   \n",
       "6    Recommended  Out of all the reviews I wrote This one is pro...   \n",
       "7    Recommended  I have never been told to kill myself more tha...   \n",
       "8    Recommended  Any longtime Dead by Daylight player knows tha...   \n",
       "9    Recommended          if you think cs go is toxic try this game   \n",
       "\n",
       "                                         title  \n",
       "0  Expansion - Hearts of Iron IV: Man the Guns  \n",
       "1  Expansion - Hearts of Iron IV: Man the Guns  \n",
       "2  Expansion - Hearts of Iron IV: Man the Guns  \n",
       "3                             Dead by Daylight  \n",
       "4                             Dead by Daylight  \n",
       "5                             Dead by Daylight  \n",
       "6                             Dead by Daylight  \n",
       "7                             Dead by Daylight  \n",
       "8                             Dead by Daylight  \n",
       "9                             Dead by Daylight  "
      ]
     },
     "execution_count": 2,
     "metadata": {},
     "output_type": "execute_result"
    }
   ],
   "source": [
    "data = pd.read_csv('./data/steam_reviews.csv')\n",
    "\n",
    "data.head(10)"
   ]
  },
  {
   "cell_type": "markdown",
   "metadata": {},
   "source": [
    "# Reviews die mehr als 150 Zeichen haben"
   ]
  },
  {
   "cell_type": "code",
   "execution_count": 3,
   "metadata": {},
   "outputs": [],
   "source": [
    "data['review length'] = data['review'].str.len()\n",
    "data_temp = data.loc[data['review length'] > 150.0]\n",
    "data_temp = data_temp.reset_index(drop = True)"
   ]
  },
  {
   "cell_type": "markdown",
   "metadata": {},
   "source": [
    "# Language Detection"
   ]
  },
  {
   "cell_type": "markdown",
   "metadata": {},
   "source": [
    "### Nur Reviews die in Englisch geschrieben sind"
   ]
  },
  {
   "cell_type": "code",
   "execution_count": null,
   "metadata": {},
   "outputs": [],
   "source": [
    "lang = []\n",
    "for rev in data_temp[\"review\"]:\n",
    "   try:\n",
    "      l = detect(rev)\n",
    "      lang.append(l)\n",
    "   except Exception:\n",
    "      lang.append(\"unknown\")\n",
    "      pass\n",
    "\n",
    "data_temp['lang'] = lang"
   ]
  },
  {
   "cell_type": "code",
   "execution_count": null,
   "metadata": {},
   "outputs": [],
   "source": [
    "data_temp.head()"
   ]
  },
  {
   "cell_type": "code",
   "execution_count": null,
   "metadata": {},
   "outputs": [],
   "source": [
    "data_not_en = data_temp[data_temp['lang'] != 'en']"
   ]
  },
  {
   "cell_type": "code",
   "execution_count": null,
   "metadata": {},
   "outputs": [],
   "source": [
    "data_not_en.head(20)"
   ]
  },
  {
   "cell_type": "code",
   "execution_count": null,
   "metadata": {},
   "outputs": [],
   "source": [
    "# Nicht englisch sprachige Reviews herausfiltern\n",
    "data_en = data_temp[data_temp['lang'] == 'en']"
   ]
  },
  {
   "cell_type": "markdown",
   "metadata": {},
   "source": [
    "# Fix Funny"
   ]
  },
  {
   "cell_type": "code",
   "execution_count": null,
   "metadata": {},
   "outputs": [],
   "source": [
    "def fix_funny(count):\n",
    "    if(count > 100000):\n",
    "        return 0\n",
    "    else:\n",
    "        return count"
   ]
  },
  {
   "cell_type": "code",
   "execution_count": null,
   "metadata": {},
   "outputs": [],
   "source": [
    "data_en['funny'] = data_en['funny'].apply(fix_funny)"
   ]
  },
  {
   "cell_type": "markdown",
   "metadata": {},
   "source": [
    "# Reviews kombinieren und Kennzahlen berechnen"
   ]
  },
  {
   "cell_type": "code",
   "execution_count": null,
   "metadata": {},
   "outputs": [],
   "source": [
    "data_en['recommendation'] = data_en['recommendation'] == 'Recommended'"
   ]
  },
  {
   "cell_type": "code",
   "execution_count": null,
   "metadata": {},
   "outputs": [],
   "source": [
    "games_reviewed = data_en.groupby('title').count()\n",
    "games_reviewed = games_reviewed[['date_posted']]\n",
    "games_reviewed.columns = ['review_count']\n",
    "games_reviewed.head()"
   ]
  },
  {
   "cell_type": "code",
   "execution_count": null,
   "metadata": {},
   "outputs": [],
   "source": [
    "# Anzahl Recommendation\n",
    "games_reviewed['recommendation_count'] = data_en.groupby('title').sum()['recommendation']\n",
    "\n",
    "# Ratio Recommendation\n",
    "games_reviewed['recommendation_ratio'] = games_reviewed['recommendation_count']/games_reviewed['review_count']\n",
    "\n",
    "# Durchschnittliche Anzahl Stunden pro Spiel\n",
    "games_reviewed['avg_playtime'] = data_en.groupby('title').sum()['hour_played'] / games_reviewed['review_count']\n",
    "\n",
    "games_reviewed['reviews_combined'] = data_en.groupby('title')['review'].apply(lambda x: ' '.join(x))\n",
    "\n",
    "games_reviewed = games_reviewed.reset_index()\n",
    "\n",
    "games_reviewed['docid'] = range(1, 1+len(games_reviewed))\n",
    "\n",
    "games_reviewed.head()"
   ]
  },
  {
   "cell_type": "markdown",
   "metadata": {},
   "source": [
    "# Datensatz abspeichern"
   ]
  },
  {
   "cell_type": "code",
   "execution_count": null,
   "metadata": {},
   "outputs": [],
   "source": [
    "# with open('./data/games_reviewed_en.pickle', 'wb') as handle:\n",
    "#     pickle.dump(games_reviewed, handle, protocol=pickle.HIGHEST_PROTOCOL)"
   ]
  },
  {
   "cell_type": "markdown",
   "metadata": {},
   "source": [
    "## TEMPORARY - Games Reviewed English - einlesen um von hier weiter zu arbeiten"
   ]
  },
  {
   "cell_type": "code",
   "execution_count": 4,
   "metadata": {},
   "outputs": [],
   "source": [
    "with open('./data/games_reviewed_en.pickle', 'rb') as handle:\n",
    "    games_reviewed = pickle.load(handle)"
   ]
  },
  {
   "cell_type": "code",
   "execution_count": 97,
   "metadata": {},
   "outputs": [
    {
     "data": {
      "text/html": [
       "<div>\n",
       "<style scoped>\n",
       "    .dataframe tbody tr th:only-of-type {\n",
       "        vertical-align: middle;\n",
       "    }\n",
       "\n",
       "    .dataframe tbody tr th {\n",
       "        vertical-align: top;\n",
       "    }\n",
       "\n",
       "    .dataframe thead th {\n",
       "        text-align: right;\n",
       "    }\n",
       "</style>\n",
       "<table border=\"1\" class=\"dataframe\">\n",
       "  <thead>\n",
       "    <tr style=\"text-align: right;\">\n",
       "      <th></th>\n",
       "      <th>title</th>\n",
       "      <th>review_count</th>\n",
       "      <th>recommendation_count</th>\n",
       "      <th>recommendation_ratio</th>\n",
       "      <th>avg_playtime</th>\n",
       "      <th>reviews_combined</th>\n",
       "      <th>docid</th>\n",
       "    </tr>\n",
       "  </thead>\n",
       "  <tbody>\n",
       "    <tr>\n",
       "      <td>0</td>\n",
       "      <td>ACE COMBAT™ 7: SKIES UNKNOWN</td>\n",
       "      <td>8</td>\n",
       "      <td>8.0</td>\n",
       "      <td>1.000000</td>\n",
       "      <td>19.750000</td>\n",
       "      <td>Oh man it's been at least a decade since Ace C...</td>\n",
       "      <td>1</td>\n",
       "    </tr>\n",
       "    <tr>\n",
       "      <td>1</td>\n",
       "      <td>ARK: Survival Evolved</td>\n",
       "      <td>129</td>\n",
       "      <td>25.0</td>\n",
       "      <td>0.193798</td>\n",
       "      <td>1013.790698</td>\n",
       "      <td>Before i start the review THE GAMEPLAY OF THIS...</td>\n",
       "      <td>2</td>\n",
       "    </tr>\n",
       "    <tr>\n",
       "      <td>2</td>\n",
       "      <td>ASTRONEER</td>\n",
       "      <td>1431</td>\n",
       "      <td>1363.0</td>\n",
       "      <td>0.952481</td>\n",
       "      <td>54.394130</td>\n",
       "      <td>i have not played much of this game and i dont...</td>\n",
       "      <td>3</td>\n",
       "    </tr>\n",
       "    <tr>\n",
       "      <td>3</td>\n",
       "      <td>Battlefleet Gothic: Armada 2</td>\n",
       "      <td>8</td>\n",
       "      <td>6.0</td>\n",
       "      <td>0.750000</td>\n",
       "      <td>62.750000</td>\n",
       "      <td>Dear Devs thanks for taking your time and maki...</td>\n",
       "      <td>4</td>\n",
       "    </tr>\n",
       "    <tr>\n",
       "      <td>4</td>\n",
       "      <td>Beat Saber</td>\n",
       "      <td>6</td>\n",
       "      <td>6.0</td>\n",
       "      <td>1.000000</td>\n",
       "      <td>80.500000</td>\n",
       "      <td>When I pull off a really difficult section I g...</td>\n",
       "      <td>5</td>\n",
       "    </tr>\n",
       "  </tbody>\n",
       "</table>\n",
       "</div>"
      ],
      "text/plain": [
       "                          title  review_count  recommendation_count  \\\n",
       "0  ACE COMBAT™ 7: SKIES UNKNOWN             8                   8.0   \n",
       "1         ARK: Survival Evolved           129                  25.0   \n",
       "2                     ASTRONEER          1431                1363.0   \n",
       "3  Battlefleet Gothic: Armada 2             8                   6.0   \n",
       "4                    Beat Saber             6                   6.0   \n",
       "\n",
       "   recommendation_ratio  avg_playtime  \\\n",
       "0              1.000000     19.750000   \n",
       "1              0.193798   1013.790698   \n",
       "2              0.952481     54.394130   \n",
       "3              0.750000     62.750000   \n",
       "4              1.000000     80.500000   \n",
       "\n",
       "                                    reviews_combined  docid  \n",
       "0  Oh man it's been at least a decade since Ace C...      1  \n",
       "1  Before i start the review THE GAMEPLAY OF THIS...      2  \n",
       "2  i have not played much of this game and i dont...      3  \n",
       "3  Dear Devs thanks for taking your time and maki...      4  \n",
       "4  When I pull off a really difficult section I g...      5  "
      ]
     },
     "execution_count": 97,
     "metadata": {},
     "output_type": "execute_result"
    }
   ],
   "source": [
    "games_reviewed.head()"
   ]
  },
  {
   "cell_type": "code",
   "execution_count": null,
   "metadata": {},
   "outputs": [],
   "source": []
  },
  {
   "cell_type": "markdown",
   "metadata": {},
   "source": [
    "# Tags einlesen, verknüpfen und abspeichern"
   ]
  },
  {
   "cell_type": "code",
   "execution_count": 98,
   "metadata": {},
   "outputs": [],
   "source": [
    "tags = pd.read_csv('./data/genres_utf.csv', sep = \";\",encoding='latin-1')\n",
    "\n",
    "tags_list = tags.values.tolist()"
   ]
  },
  {
   "cell_type": "code",
   "execution_count": 138,
   "metadata": {},
   "outputs": [],
   "source": [
    "list_temp = []\n",
    "id_temp = []\n",
    "for i in range(0,len(tags_list)):   \n",
    "    id_temp.append(tags_list[i][1])\n",
    "    temp = tags_list[i][2:20]\n",
    "    temp.append('All')\n",
    "    # print(temp)\n",
    "    list_temp.append(temp)\n"
   ]
  },
  {
   "cell_type": "code",
   "execution_count": 139,
   "metadata": {},
   "outputs": [],
   "source": [
    "tags_df = pd.DataFrame({'docid': id_temp, 'tags': list_temp})"
   ]
  },
  {
   "cell_type": "code",
   "execution_count": 127,
   "metadata": {},
   "outputs": [],
   "source": [
    "games_reviewed2 = games_reviewed.join(tags_df.set_index('docid'), on='docid')"
   ]
  },
  {
   "cell_type": "code",
   "execution_count": 152,
   "metadata": {},
   "outputs": [],
   "source": [
    "tags_temp = []\n",
    "for item in tags_list:\n",
    "    item.append('All')\n",
    "    for j in range(2,len(item)):\n",
    "        tags_temp.append(item[j])"
   ]
  },
  {
   "cell_type": "code",
   "execution_count": 155,
   "metadata": {},
   "outputs": [],
   "source": [
    "unique_tags = set(tags_temp)\n",
    "unique_tags = list(unique_tags)[1:len(list(unique_tags))]"
   ]
  },
  {
   "cell_type": "code",
   "execution_count": 156,
   "metadata": {},
   "outputs": [],
   "source": [
    "unique_tags = sorted(unique_tags)"
   ]
  },
  {
   "cell_type": "code",
   "execution_count": 157,
   "metadata": {},
   "outputs": [
    {
     "data": {
      "text/html": [
       "<div>\n",
       "<style scoped>\n",
       "    .dataframe tbody tr th:only-of-type {\n",
       "        vertical-align: middle;\n",
       "    }\n",
       "\n",
       "    .dataframe tbody tr th {\n",
       "        vertical-align: top;\n",
       "    }\n",
       "\n",
       "    .dataframe thead th {\n",
       "        text-align: right;\n",
       "    }\n",
       "</style>\n",
       "<table border=\"1\" class=\"dataframe\">\n",
       "  <thead>\n",
       "    <tr style=\"text-align: right;\">\n",
       "      <th></th>\n",
       "      <th>title</th>\n",
       "      <th>review_count</th>\n",
       "      <th>recommendation_count</th>\n",
       "      <th>recommendation_ratio</th>\n",
       "      <th>avg_playtime</th>\n",
       "      <th>reviews_combined</th>\n",
       "      <th>docid</th>\n",
       "      <th>tags</th>\n",
       "    </tr>\n",
       "  </thead>\n",
       "  <tbody>\n",
       "    <tr>\n",
       "      <td>0</td>\n",
       "      <td>ACE COMBAT™ 7: SKIES UNKNOWN</td>\n",
       "      <td>8</td>\n",
       "      <td>8.0</td>\n",
       "      <td>1.000000</td>\n",
       "      <td>19.750000</td>\n",
       "      <td>Oh man it's been at least a decade since Ace C...</td>\n",
       "      <td>1</td>\n",
       "      <td>[Flugsimulation, Jet, Military, War, Shooter, ...</td>\n",
       "    </tr>\n",
       "    <tr>\n",
       "      <td>1</td>\n",
       "      <td>ARK: Survival Evolved</td>\n",
       "      <td>129</td>\n",
       "      <td>25.0</td>\n",
       "      <td>0.193798</td>\n",
       "      <td>1013.790698</td>\n",
       "      <td>Before i start the review THE GAMEPLAY OF THIS...</td>\n",
       "      <td>2</td>\n",
       "      <td>[Open-World-Survival-Craft, Survival, Open-Wor...</td>\n",
       "    </tr>\n",
       "    <tr>\n",
       "      <td>2</td>\n",
       "      <td>ASTRONEER</td>\n",
       "      <td>1431</td>\n",
       "      <td>1363.0</td>\n",
       "      <td>0.952481</td>\n",
       "      <td>54.394130</td>\n",
       "      <td>i have not played much of this game and i dont...</td>\n",
       "      <td>3</td>\n",
       "      <td>[Open-World-Survival-Craft, Open-World, Multip...</td>\n",
       "    </tr>\n",
       "    <tr>\n",
       "      <td>3</td>\n",
       "      <td>Battlefleet Gothic: Armada 2</td>\n",
       "      <td>8</td>\n",
       "      <td>6.0</td>\n",
       "      <td>0.750000</td>\n",
       "      <td>62.750000</td>\n",
       "      <td>Dear Devs thanks for taking your time and maki...</td>\n",
       "      <td>4</td>\n",
       "      <td>[Strategy, Warhammer 40k, Space, Real-timeTact...</td>\n",
       "    </tr>\n",
       "    <tr>\n",
       "      <td>4</td>\n",
       "      <td>Beat Saber</td>\n",
       "      <td>6</td>\n",
       "      <td>6.0</td>\n",
       "      <td>1.000000</td>\n",
       "      <td>80.500000</td>\n",
       "      <td>When I pull off a really difficult section I g...</td>\n",
       "      <td>5</td>\n",
       "      <td>[VR, Rhythmus, Musik, Good soundtrack, Indie, ...</td>\n",
       "    </tr>\n",
       "  </tbody>\n",
       "</table>\n",
       "</div>"
      ],
      "text/plain": [
       "                          title  review_count  recommendation_count  \\\n",
       "0  ACE COMBAT™ 7: SKIES UNKNOWN             8                   8.0   \n",
       "1         ARK: Survival Evolved           129                  25.0   \n",
       "2                     ASTRONEER          1431                1363.0   \n",
       "3  Battlefleet Gothic: Armada 2             8                   6.0   \n",
       "4                    Beat Saber             6                   6.0   \n",
       "\n",
       "   recommendation_ratio  avg_playtime  \\\n",
       "0              1.000000     19.750000   \n",
       "1              0.193798   1013.790698   \n",
       "2              0.952481     54.394130   \n",
       "3              0.750000     62.750000   \n",
       "4              1.000000     80.500000   \n",
       "\n",
       "                                    reviews_combined  docid  \\\n",
       "0  Oh man it's been at least a decade since Ace C...      1   \n",
       "1  Before i start the review THE GAMEPLAY OF THIS...      2   \n",
       "2  i have not played much of this game and i dont...      3   \n",
       "3  Dear Devs thanks for taking your time and maki...      4   \n",
       "4  When I pull off a really difficult section I g...      5   \n",
       "\n",
       "                                                tags  \n",
       "0  [Flugsimulation, Jet, Military, War, Shooter, ...  \n",
       "1  [Open-World-Survival-Craft, Survival, Open-Wor...  \n",
       "2  [Open-World-Survival-Craft, Open-World, Multip...  \n",
       "3  [Strategy, Warhammer 40k, Space, Real-timeTact...  \n",
       "4  [VR, Rhythmus, Musik, Good soundtrack, Indie, ...  "
      ]
     },
     "execution_count": 157,
     "metadata": {},
     "output_type": "execute_result"
    }
   ],
   "source": [
    "games_reviewed2.head()"
   ]
  },
  {
   "cell_type": "code",
   "execution_count": 158,
   "metadata": {},
   "outputs": [],
   "source": [
    "# with open('./data/unique_tags.pickle', 'wb') as handle:\n",
    "#     pickle.dump(unique_tags, handle, protocol=pickle.HIGHEST_PROTOCOL)"
   ]
  },
  {
   "cell_type": "code",
   "execution_count": 131,
   "metadata": {},
   "outputs": [],
   "source": [
    "# with open('./data/games_reviewed.pickle', 'wb') as handle:\n",
    "#     pickle.dump(games_reviewed2, handle, protocol=pickle.HIGHEST_PROTOCOL)"
   ]
  },
  {
   "cell_type": "markdown",
   "metadata": {},
   "source": [
    "# 1) Documents"
   ]
  },
  {
   "cell_type": "code",
   "execution_count": 5,
   "metadata": {},
   "outputs": [],
   "source": [
    "corpus = games_reviewed.loc[:,['title','reviews_combined','docid']]\n",
    "# df_games = pd.Series(corpus.reviews_combined.values,index=corpus.title).to_dict()\n",
    "\n",
    "# Dictionary erstellen\n",
    "df_games = corpus.set_index('title').to_dict(\"index\")"
   ]
  },
  {
   "cell_type": "markdown",
   "metadata": {},
   "source": [
    "## 1.1) Dict pro Wort - mit Stopwords & Stemming"
   ]
  },
  {
   "cell_type": "code",
   "execution_count": 6,
   "metadata": {},
   "outputs": [],
   "source": [
    "def add_document(doc):\n",
    "    \"\"\"\n",
    "    Add Document to the dictionary\n",
    "    \"\"\"\n",
    "\n",
    "    global documents, docid_counter, the_index\n",
    "\n",
    "    doc, id = doc.values()\n",
    "\n",
    "    if doc in documents.values():\n",
    "        print(f'document already included!')\n",
    "        print(doc)\n",
    "    \n",
    "    docid = id\n",
    "    documents[docid] = doc\n",
    "    docid_counter += 1\n",
    "\n",
    "    stemmer = SnowballStemmer(\"english\")\n",
    "\n",
    "    for term in word_tokenize(doc.lower().strip()):\n",
    "        stop = stopwords.words('english') + list(string.punctuation) + ['\\n']\n",
    "\n",
    "        if term in stop:\n",
    "            continue\n",
    "        else:\n",
    "            term = stemmer.stem(term)\n",
    "            if not term in the_index.keys():\n",
    "                the_index[term] = {\n",
    "                    'df':1,\n",
    "                    'docs':{\n",
    "                        docid:1 # tf_d = 1\n",
    "                    }\n",
    "                }         \n",
    "            else:\n",
    "                # doc already seen\n",
    "                if docid in the_index[term]['docs'].keys():\n",
    "                    the_index[term]['docs'][docid] += 1\n",
    "                    \n",
    "                else:\n",
    "                    the_index[term]['docs'][docid] = 1\n",
    "                    the_index[term]['df'] += 1                      \n"
   ]
  },
  {
   "cell_type": "code",
   "execution_count": 7,
   "metadata": {},
   "outputs": [],
   "source": [
    "def fill_dict(dict):\n",
    "    \"\"\"\n",
    "    Function to fill the dictionary\n",
    "    \"\"\"\n",
    "    \n",
    "    for key in dict:\n",
    "        print(\"adding document: \", key)\n",
    "        add_document(dict[key])\n",
    "\n"
   ]
  },
  {
   "cell_type": "code",
   "execution_count": 14,
   "metadata": {},
   "outputs": [],
   "source": [
    "'''Map document titles to document ids'''\n",
    "documents = {}\n",
    "'''A running counter for assigning numerical IDs to documents'''\n",
    "docid_counter = 1\n",
    "'''The document-term frequencies'''\n",
    "the_index = dict()"
   ]
  },
  {
   "cell_type": "code",
   "execution_count": 15,
   "metadata": {},
   "outputs": [
    {
     "name": "stdout",
     "output_type": "stream",
     "text": [
      "adding document:  ACE COMBAT™ 7: SKIES UNKNOWN\n",
      "adding document:  ARK: Survival Evolved\n",
      "adding document:  ASTRONEER\n",
      "adding document:  Battlefleet Gothic: Armada 2\n",
      "adding document:  Beat Saber\n",
      "adding document:  Cold Waters\n",
      "adding document:  Dead by Daylight\n",
      "adding document:  Divinity: Original Sin 2 - Definitive Edition\n",
      "adding document:  Don't Starve Together\n",
      "adding document:  Euro Truck Simulator 2\n",
      "adding document:  Expansion - Hearts of Iron IV: Man the Guns\n",
      "adding document:  Factorio\n",
      "adding document:  Farming Simulator 19\n",
      "adding document:  Football Manager 2019\n",
      "adding document:  Foundation\n",
      "adding document:  GOD EATER 3\n",
      "adding document:  Garry's Mod\n",
      "adding document:  Grand Theft Auto V\n",
      "adding document:  Human: Fall Flat\n",
      "adding document:  Insurgency: Sandstorm\n",
      "adding document:  Kenshi\n",
      "adding document:  Left 4 Dead 2\n",
      "adding document:  MONSTER HUNTER: WORLD\n",
      "adding document:  Moonlighter\n",
      "adding document:  My Time At Portia\n",
      "adding document:  NBA 2K19\n",
      "adding document:  Overcooked! 2\n",
      "adding document:  PLAYERUNKNOWN'S BATTLEGROUNDS\n",
      "adding document:  Pathfinder: Kingmaker\n",
      "adding document:  RESIDENT EVIL 2 / BIOHAZARD RE:2\n",
      "adding document:  RimWorld\n",
      "adding document:  Rocket League®\n",
      "adding document:  Rust\n",
      "adding document:  Sid Meier's Civilization® VI: Gathering Storm\n",
      "adding document:  Sid Meier’s Civilization® VI\n",
      "adding document:  Sid Meier’s Civilization® VI: Rise and Fall\n",
      "document already included!\n",
      "New EULA \"The information we collect may include personal information such as your first and/or last name e mail address phone number photo mailing address geolocation or payment information. In addition we may collect your age gender date of birth zip code hardware configuration console ID software products played survey data purchases IP address and the systems you have played on. We may combine the information with your personal information and across other computers or devices that you may use.\"Yeah nah... I've uninstalled this game two times and I've got tons of storage so I usually don't do that.The first time was because the game automatically installed with the game \"Redshell\" a spyware program that steals your information for ad targeting.The second because their new EULA (which again you agree to by having the game installed) gives them permission to access every bit of personal information your PC can give them.Both times just happened to be at the same time their big (very expensive) expansion DLC comes out. It's clearly no coincidence that they put this garbage in at the same time the most users have the game installed. It's a disgusting and predatory business practice and it makes me feel just disappointed. The greed in video game developers today is just sickening.If you really want to buy this game go buy Civ 5. It's a great game some say much better than this one and the best part is they aren't updating it anymore. So the game is okay I think Civ 5 AND 4 were better so I would recommend those over this. That the previous games did things \"better\" is of course personal opinion yet there is another reason I would not recommend this.There is a disturbing attempt to change a personally owned game into the new \"Games as a service\" by forcing an updated user agreement that did not exist at the launch of the game and if you like having your files personal or dont want to agree to give them the information they want then you cant play the game anymore. Thats a very shady move. To think that all they need to do to take away ownership or how you play a game no matter how old the game is is just to update a new user agreement.That would be like Nintendo in the 80's locking a NES copy of Super Mario with radio waves and not letting you play it unless you mailed them a signed letter. The letter saying that you agreed to hand over your address book and photo album if they decided they wanted it in return for letting you play your... ummm actually now its THEIR game. Thats insane id rather vote with my wallet and play a less intrusive game.\n",
      "adding document:  Slay the Spire\n",
      "adding document:  Stardew Valley\n",
      "adding document:  Subnautica\n",
      "adding document:  Subnautica: Below Zero\n",
      "adding document:  Tannenberg\n",
      "adding document:  Terraria\n",
      "adding document:  The Elder Scrolls V: Skyrim Special Edition\n",
      "adding document:  Tom Clancy's Rainbow Six® Siege\n",
      "adding document:  Wallpaper Engine\n",
      "adding document:  Wargroove\n",
      "adding document:  Warhammer 40,000: Mechanicus\n"
     ]
    }
   ],
   "source": [
    "# takes a lot of time\n",
    "fill_dict(df_games)"
   ]
  },
  {
   "cell_type": "code",
   "execution_count": 1,
   "metadata": {},
   "outputs": [],
   "source": [
    "# print(the_index)"
   ]
  },
  {
   "cell_type": "markdown",
   "metadata": {},
   "source": [
    "# Index, Documents und Docid_counter abspeichern"
   ]
  },
  {
   "cell_type": "code",
   "execution_count": 16,
   "metadata": {},
   "outputs": [],
   "source": [
    "with open('./data/the_index_stem.pickle', 'wb') as handle:\n",
    "    pickle.dump(the_index, handle, protocol=pickle.HIGHEST_PROTOCOL)"
   ]
  },
  {
   "cell_type": "code",
   "execution_count": 17,
   "metadata": {},
   "outputs": [],
   "source": [
    "with open('./data/documents.pickle', 'wb') as handle:\n",
    "    pickle.dump(documents, handle, protocol=pickle.HIGHEST_PROTOCOL)"
   ]
  },
  {
   "cell_type": "code",
   "execution_count": 18,
   "metadata": {},
   "outputs": [],
   "source": [
    "with open('./data/docid_counter.pickle', 'wb') as handle:\n",
    "    pickle.dump(docid_counter, handle, protocol=pickle.HIGHEST_PROTOCOL)"
   ]
  }
 ],
 "metadata": {
  "interpreter": {
   "hash": "54bb09e0e1c4210a291a7e714438edc97697bb974e48d047e7feb14fe22a9873"
  },
  "kernelspec": {
   "display_name": "Python 3.7.4 64-bit",
   "language": "python",
   "name": "python3"
  },
  "language_info": {
   "codemirror_mode": {
    "name": "ipython",
    "version": 3
   },
   "file_extension": ".py",
   "mimetype": "text/x-python",
   "name": "python",
   "nbconvert_exporter": "python",
   "pygments_lexer": "ipython3",
   "version": "3.7.4"
  },
  "orig_nbformat": 4
 },
 "nbformat": 4,
 "nbformat_minor": 2
}
