{
 "cells": [
  {
   "cell_type": "code",
   "execution_count": 118,
   "metadata": {},
   "outputs": [],
   "source": [
    "import pandas as pd\n",
    "\n",
    "import nltk\n",
    "from nltk.corpus import stopwords\n",
    "from nltk.stem import SnowballStemmer\n",
    "# nltk.download('stopwords')\n",
    "\n",
    "import numpy as np\n",
    "import re\n",
    "\n",
    "import operator\n",
    "\n",
    "import pickle"
   ]
  },
  {
   "cell_type": "code",
   "execution_count": 94,
   "metadata": {},
   "outputs": [],
   "source": [
    "stopwords = set(stopwords.words('english'))"
   ]
  },
  {
   "cell_type": "code",
   "execution_count": null,
   "metadata": {},
   "outputs": [],
   "source": []
  },
  {
   "cell_type": "code",
   "execution_count": 95,
   "metadata": {},
   "outputs": [
    {
     "name": "stdout",
     "output_type": "stream",
     "text": [
      "{'but', 'doing', 'then', 'because', 'll', 'yourself', \"wouldn't\", 'does', 'why', 'be', 'up', 'any', \"shan't\", 'she', 'when', 'o', \"haven't\", 'what', 'these', 'being', 'shan', 'all', 'ourselves', 'aren', 'he', 'between', 'only', 'it', 'other', 've', 'mightn', 'themselves', 'of', 'have', \"didn't\", 'for', 'to', 'at', 'each', 'myself', 'were', 'don', 'yours', 'been', \"couldn't\", 'a', 'shouldn', 'ours', 'those', 'me', \"doesn't\", 'more', 'himself', 'into', \"that'll\", \"needn't\", 'over', 'from', \"should've\", 'couldn', \"weren't\", 'some', 'again', 'am', 'in', 'do', 'now', 'here', 'their', 'whom', 'her', 'doesn', 'ma', 'own', 'should', 'them', 'ain', 'we', 'just', 'was', \"shouldn't\", \"hasn't\", 'yourselves', 'will', 'this', 'having', 'most', 'nor', 'are', 'not', 'after', \"you've\", \"it's\", 'its', 'no', 'off', 'needn', 'wasn', 'hadn', 'before', 'that', \"you'll\", 'won', 'few', 'with', 'weren', 'my', 'until', 'theirs', 'there', 'wouldn', 'herself', 'y', \"mustn't\", 'about', 'by', 'such', 'further', 'an', \"you're\", 'mustn', 'once', 'against', 'him', 'had', 'too', 'itself', 'how', 'above', \"don't\", 'down', 'd', 't', 'on', 'and', 'if', 're', 's', 'didn', 'or', \"you'd\", \"aren't\", 'our', 'who', 'hers', 'through', \"won't\", 'did', 'your', 'has', \"wasn't\", 'same', 'm', 'as', 'so', 'his', 'than', 'haven', 'they', 'out', \"hadn't\", 'under', 'can', 'you', 'i', 'both', \"she's\", 'while', \"isn't\", 'is', 'hasn', 'very', 'isn', 'which', 'the', \"mightn't\", 'where', 'during', 'below'}\n"
     ]
    }
   ],
   "source": [
    "print(stopwords)"
   ]
  },
  {
   "cell_type": "code",
   "execution_count": 96,
   "metadata": {},
   "outputs": [],
   "source": [
    "# Einlesen und Rückgabe des Korpus\n",
    "def readCorpus(reviews):\n",
    "\tcontent = [', '.join(reviews)]\n",
    "\t# with open(reviews) as f:\n",
    "\t# \tcontent = f.readlines()\n",
    "\treturn content"
   ]
  },
  {
   "cell_type": "code",
   "execution_count": 97,
   "metadata": {},
   "outputs": [],
   "source": [
    "# Erstellen und Rückgabe eines einfachen Index\n",
    "# Dokumente sollen tokenisiert und die tokens von nicht Buchstaben gesäubert und in Kleinschreibung umgewandelt werden: z.B. ['abwarten', 'und', 'tee', 'trinken']\n",
    "def indexCorpus(corpus):\n",
    "    stemmer = SnowballStemmer('english')\n",
    "    index = []\n",
    "    for line in corpus:\n",
    "        linei = []\n",
    "        items = line.split(' ')\n",
    "        for item in items:\n",
    "            itemt = re.sub(r'\\W+', '', item).lower()\n",
    "            if itemt not in stopwords:\n",
    "                itemts = stemmer.stem(itemt)\n",
    "                linei.append(itemts)\n",
    "        index.append(linei)\n",
    "    return index"
   ]
  },
  {
   "cell_type": "code",
   "execution_count": 32,
   "metadata": {},
   "outputs": [],
   "source": [
    "# def indexCorpusWSS(corpus, stopwords):\n",
    "# \tstemmer = SnowballStemmer('english')\n",
    "# \tindex = []\n",
    "# \tpos = 0\n",
    "# \tfor c in corpus:\n",
    "# \t\tcindex = set()\n",
    "# \t\tterms = c.split(' ')\n",
    "# \t\tfor t in terms:\n",
    "# \t\t\ttt = re.sub(r'\\W+', '', t).lower()\n",
    "# \t\t\tif tt not in stopwords:\n",
    "# \t\t\t\ttts = stemmer.stem(tt)\n",
    "# \t\t\t\tif tts not in cindex:\n",
    "# \t\t\t\t\tcindex.add(tts)\n",
    "# \t\tindex[pos] = cindex\n",
    "# \t\tpos += 1\n",
    "# \treturn index"
   ]
  },
  {
   "cell_type": "code",
   "execution_count": 98,
   "metadata": {},
   "outputs": [],
   "source": [
    "data = pd.read_csv('./data/steam_game_reviews.csv')"
   ]
  },
  {
   "cell_type": "code",
   "execution_count": 99,
   "metadata": {},
   "outputs": [
    {
     "data": {
      "text/html": [
       "<div>\n",
       "<style scoped>\n",
       "    .dataframe tbody tr th:only-of-type {\n",
       "        vertical-align: middle;\n",
       "    }\n",
       "\n",
       "    .dataframe tbody tr th {\n",
       "        vertical-align: top;\n",
       "    }\n",
       "\n",
       "    .dataframe thead th {\n",
       "        text-align: right;\n",
       "    }\n",
       "</style>\n",
       "<table border=\"1\" class=\"dataframe\">\n",
       "  <thead>\n",
       "    <tr style=\"text-align: right;\">\n",
       "      <th></th>\n",
       "      <th>Unnamed: 0</th>\n",
       "      <th>title</th>\n",
       "      <th>review_count</th>\n",
       "      <th>recommendation_count</th>\n",
       "      <th>recommendation_ratio</th>\n",
       "      <th>avg_playtime</th>\n",
       "      <th>reviews_combined</th>\n",
       "    </tr>\n",
       "  </thead>\n",
       "  <tbody>\n",
       "    <tr>\n",
       "      <td>0</td>\n",
       "      <td>0</td>\n",
       "      <td>ACE COMBAT™ 7: SKIES UNKNOWN</td>\n",
       "      <td>8</td>\n",
       "      <td>8.0</td>\n",
       "      <td>1.000000</td>\n",
       "      <td>19.750000</td>\n",
       "      <td>Oh man it's been at least a decade since Ace C...</td>\n",
       "    </tr>\n",
       "    <tr>\n",
       "      <td>1</td>\n",
       "      <td>1</td>\n",
       "      <td>ARK: Survival Evolved</td>\n",
       "      <td>130</td>\n",
       "      <td>25.0</td>\n",
       "      <td>0.192308</td>\n",
       "      <td>1007.007692</td>\n",
       "      <td>Before i start the review THE GAMEPLAY OF THIS...</td>\n",
       "    </tr>\n",
       "    <tr>\n",
       "      <td>2</td>\n",
       "      <td>2</td>\n",
       "      <td>ASTRONEER</td>\n",
       "      <td>1436</td>\n",
       "      <td>1368.0</td>\n",
       "      <td>0.952646</td>\n",
       "      <td>54.400418</td>\n",
       "      <td>i have not played much of this game and i dont...</td>\n",
       "    </tr>\n",
       "    <tr>\n",
       "      <td>3</td>\n",
       "      <td>3</td>\n",
       "      <td>Battlefleet Gothic: Armada 2</td>\n",
       "      <td>8</td>\n",
       "      <td>6.0</td>\n",
       "      <td>0.750000</td>\n",
       "      <td>62.750000</td>\n",
       "      <td>Dear Devs thanks for taking your time and maki...</td>\n",
       "    </tr>\n",
       "    <tr>\n",
       "      <td>4</td>\n",
       "      <td>4</td>\n",
       "      <td>Beat Saber</td>\n",
       "      <td>6</td>\n",
       "      <td>6.0</td>\n",
       "      <td>1.000000</td>\n",
       "      <td>80.500000</td>\n",
       "      <td>When I pull off a really difficult section I g...</td>\n",
       "    </tr>\n",
       "  </tbody>\n",
       "</table>\n",
       "</div>"
      ],
      "text/plain": [
       "   Unnamed: 0                         title  review_count  \\\n",
       "0           0  ACE COMBAT™ 7: SKIES UNKNOWN             8   \n",
       "1           1         ARK: Survival Evolved           130   \n",
       "2           2                     ASTRONEER          1436   \n",
       "3           3  Battlefleet Gothic: Armada 2             8   \n",
       "4           4                    Beat Saber             6   \n",
       "\n",
       "   recommendation_count  recommendation_ratio  avg_playtime  \\\n",
       "0                   8.0              1.000000     19.750000   \n",
       "1                  25.0              0.192308   1007.007692   \n",
       "2                1368.0              0.952646     54.400418   \n",
       "3                   6.0              0.750000     62.750000   \n",
       "4                   6.0              1.000000     80.500000   \n",
       "\n",
       "                                    reviews_combined  \n",
       "0  Oh man it's been at least a decade since Ace C...  \n",
       "1  Before i start the review THE GAMEPLAY OF THIS...  \n",
       "2  i have not played much of this game and i dont...  \n",
       "3  Dear Devs thanks for taking your time and maki...  \n",
       "4  When I pull off a really difficult section I g...  "
      ]
     },
     "execution_count": 99,
     "metadata": {},
     "output_type": "execute_result"
    }
   ],
   "source": [
    "data.head()"
   ]
  },
  {
   "cell_type": "code",
   "execution_count": 100,
   "metadata": {},
   "outputs": [],
   "source": [
    "corpus = data.loc[:,['title','reviews_combined']]"
   ]
  },
  {
   "cell_type": "code",
   "execution_count": 101,
   "metadata": {},
   "outputs": [
    {
     "name": "stdout",
     "output_type": "stream",
     "text": [
      "                                            title  \\\n",
      "0                    ACE COMBAT™ 7: SKIES UNKNOWN   \n",
      "1                           ARK: Survival Evolved   \n",
      "2                                       ASTRONEER   \n",
      "3                    Battlefleet Gothic: Armada 2   \n",
      "4                                      Beat Saber   \n",
      "5                                     Cold Waters   \n",
      "6                                Dead by Daylight   \n",
      "7   Divinity: Original Sin 2 - Definitive Edition   \n",
      "8                           Don't Starve Together   \n",
      "9                          Euro Truck Simulator 2   \n",
      "10    Expansion - Hearts of Iron IV: Man the Guns   \n",
      "11                                       Factorio   \n",
      "12                           Farming Simulator 19   \n",
      "13                          Football Manager 2019   \n",
      "14                                     Foundation   \n",
      "15                                    GOD EATER 3   \n",
      "16                                    Garry's Mod   \n",
      "17                             Grand Theft Auto V   \n",
      "18                               Human: Fall Flat   \n",
      "19                          Insurgency: Sandstorm   \n",
      "20                                         Kenshi   \n",
      "21                                  Left 4 Dead 2   \n",
      "22                          MONSTER HUNTER: WORLD   \n",
      "23                                    Moonlighter   \n",
      "24                              My Time At Portia   \n",
      "25                                       NBA 2K19   \n",
      "26                                  Overcooked! 2   \n",
      "27                  PLAYERUNKNOWN'S BATTLEGROUNDS   \n",
      "28                          Pathfinder: Kingmaker   \n",
      "29               RESIDENT EVIL 2 / BIOHAZARD RE:2   \n",
      "30                                       RimWorld   \n",
      "31                                 Rocket League®   \n",
      "32                                           Rust   \n",
      "33  Sid Meier's Civilization® VI: Gathering Storm   \n",
      "34                   Sid Meier’s Civilization® VI   \n",
      "35    Sid Meier’s Civilization® VI: Rise and Fall   \n",
      "36                                 Slay the Spire   \n",
      "37                                 Stardew Valley   \n",
      "38                                     Subnautica   \n",
      "39                         Subnautica: Below Zero   \n",
      "40                                     Tannenberg   \n",
      "41                                       Terraria   \n",
      "42    The Elder Scrolls V: Skyrim Special Edition   \n",
      "43                Tom Clancy's Rainbow Six® Siege   \n",
      "44                               Wallpaper Engine   \n",
      "45                                      Wargroove   \n",
      "46                   Warhammer 40,000: Mechanicus   \n",
      "\n",
      "                                     reviews_combined  \n",
      "0   Oh man it's been at least a decade since Ace C...  \n",
      "1   Before i start the review THE GAMEPLAY OF THIS...  \n",
      "2   i have not played much of this game and i dont...  \n",
      "3   Dear Devs thanks for taking your time and maki...  \n",
      "4   When I pull off a really difficult section I g...  \n",
      "5   First of all we need to establish what Cold Wa...  \n",
      "6   Out of all the reviews I wrote This one is pro...  \n",
      "7   Let's see Game releases in Early Access with a...  \n",
      "8   UPDATE This review is severially outdated and ...  \n",
      "9   You know it honestly feels like a joke at firs...  \n",
      "10  &gt Played as German Reich&gt Declare war on B...  \n",
      "11  Factorio is a puzzle game. The objective is su...  \n",
      "12  After playing for just a couple hours I alread...  \n",
      "13  I've played football management games since th...  \n",
      "14  Wow! I have been wanting a good Medieval town ...  \n",
      "15  Were you a fan of the previous God Eater title...  \n",
      "16  Gaming got me into Garry's ModGarry's Mod got ...  \n",
      "17  best Rockstar optimization so farI couldn't st...  \n",
      "18  Stunning.The online mode is incredibly fun.It'...  \n",
      "19  PROS Best Gunplay in a game ive played for yea...  \n",
      "20  Lost a leg bled out crawling through the deser...  \n",
      "21  I used to play this game a lot back when it ca...  \n",
      "22  TL DR this is how you fix a title from an impe...  \n",
      "23  I won't tell you if you'll like it or not. I'l...  \n",
      "24  **EDIT**Leaving the original comment below so ...  \n",
      "25  Money grubbing game designers don't know the d...  \n",
      "26  As a returning player 6/10 for those new to th...  \n",
      "27  MAKE SERVERS REGION RESTRICTED! There's so man...  \n",
      "28  Hello everyone! It's been a while since I've w...  \n",
      "29  I can not make a comment on whether RE2 is a f...  \n",
      "30  Oh my gawd Cletus.... Oh my gawd...This is a d...  \n",
      "31  My ImpressionEverybody probably knows this gam...  \n",
      "32  So I've owned rust for maybe 3 years played on...  \n",
      "33  New EULA \"The information we collect may inclu...  \n",
      "34  They did it again. Civ V was great (with some ...  \n",
      "35  New EULA \"The information we collect may inclu...  \n",
      "36  An example to all those stuck in Early Access....  \n",
      "37  How can i put this? This is a fantastic and wo...  \n",
      "38  I was sad when I finished this game. I don't g...  \n",
      "39  Reminder to all Subnautica Classic released in...  \n",
      "40  When battlefield 1 came out and we all were li...  \n",
      "41  So here's a simplified list of what you'll fin...  \n",
      "42  Product received for free. If you don't know a...  \n",
      "43  Nice Game &lt 3Ich spiele schon seit längerer ...  \n",
      "44  So I bought this item a little reluctantly... ...  \n",
      "45  It's like Advance Wars with a coat of Fire Emb...  \n",
      "46  On paper an indie game made by a lesser known ...  \n"
     ]
    }
   ],
   "source": [
    "print(corpus)"
   ]
  },
  {
   "cell_type": "code",
   "execution_count": 102,
   "metadata": {},
   "outputs": [],
   "source": [
    "# index = indexCorpus(corpus['reviews_combined'])"
   ]
  },
  {
   "cell_type": "code",
   "execution_count": 120,
   "metadata": {},
   "outputs": [],
   "source": [
    "# with open('./data/index.pickle', 'wb') as handle:\n",
    "#     pickle.dump(index, handle, protocol=pickle.HIGHEST_PROTOCOL)"
   ]
  },
  {
   "cell_type": "code",
   "execution_count": 121,
   "metadata": {},
   "outputs": [],
   "source": [
    "with open('./data/index.pickle', 'rb') as handle:\n",
    "    index = pickle.load(handle)"
   ]
  },
  {
   "cell_type": "code",
   "execution_count": 82,
   "metadata": {},
   "outputs": [],
   "source": [
    "# Berechnung und Rückgabe des Rangierungsscore Nr 1\n",
    "# Je mehr Suchbegriffe in einem Dokument vorkommen, desto relevanter ist das Dokument.\n",
    "def calculateScore1(index, query):\n",
    "    scores = []\n",
    "    qterms = query.split(' ')\n",
    "    for ind in index:\n",
    "        score = 0\n",
    "        for t in qterms:\n",
    "            for dt in ind:\n",
    "                if t == dt:\n",
    "                    score = score + 1\n",
    "                    break\n",
    "        scores.append(score)\n",
    "    return scores\n",
    "\n",
    "# Berechnung und Rückgabe des Rangierungsscore Nr 2\n",
    "# Je haeufiger die Suchbegriffe in einem Dokument vorkommen, desto relevanter ist das Dokument.\n",
    "def calculateScore2(index, query):\n",
    "    scores = []\n",
    "    qterms = query.split(' ')\n",
    "    for ind in index:\n",
    "        score = 0\n",
    "        for t in qterms:\n",
    "            for dt in ind:\n",
    "                if t == dt:\n",
    "                    score = score + 1\n",
    "        scores.append(score)\n",
    "    return scores\n",
    "\n",
    "# Berechnung und Rückgabe des Rangierungsscore Nr 3\n",
    "# Je frueher ein Suchbegriff in einem Dokument vorkommt, desto relevanter ist das Dokument. Maximal Score ist 10.0.\n",
    "def calculateScore3(index, query):\n",
    "    scores = []\n",
    "    qterms = query.split(' ')\n",
    "    for ind in index:\n",
    "        score = 10.0\n",
    "        for t in qterms:\n",
    "            for pos, dt in enumerate(ind):\n",
    "                if t == dt:\n",
    "                    if pos < score:\n",
    "                        score = pos + 1\n",
    "                    break\n",
    "        fsc = 10.0 / (score)\n",
    "        scores.append(max(1.0, fsc))\n",
    "    return scores\n",
    "\n",
    "# Berechnen aller 3 Rangierungsscores zwischen der Query und den Dokumenten. Der finale Score wird durch die Multiplikation aller 3 Scores berechnet.\n",
    "def calculateScores(index, query):\n",
    "    tmp = [calculateScore1(index, query), calculateScore2(index, query), calculateScore3(index, query)]\n",
    "    final_scores = {}\n",
    "    for p, ind in enumerate(index):\n",
    "        final_scores[p] = tmp[0][p] * tmp[1][p] * tmp[2][p]\n",
    "    return final_scores"
   ]
  },
  {
   "cell_type": "code",
   "execution_count": 103,
   "metadata": {},
   "outputs": [],
   "source": [
    "# calculateScores(index, \"product\")"
   ]
  },
  {
   "cell_type": "code",
   "execution_count": 85,
   "metadata": {},
   "outputs": [],
   "source": [
    "# Erstellen des Rankings und Ausgabe der topn Sprichwoerter mit dem jeweiligen Score.\n",
    "def evaluateScores(scores, corpus, topn):\n",
    "\tsorted_x = sorted(scores.items(), key=operator.itemgetter(1), reverse=True)\n",
    "\ttopnitems = sorted_x[0:topn]\n",
    "\tresult = ''\n",
    "\tfor item in topnitems:\n",
    "\t\tif item[1] > 0.0:\n",
    "\t\t\tresult = result + '\\n' + corpus['title'][item[0]].strip() + ' --> Score: ' + str(item[1])\n",
    "\treturn result"
   ]
  },
  {
   "cell_type": "code",
   "execution_count": 122,
   "metadata": {},
   "outputs": [
    {
     "name": "stdout",
     "output_type": "stream",
     "text": [
      "Antwort 1: Die 5 am höchsten bewerteten Games für den Suchterm sind:\n",
      " \n",
      "Grand Theft Auto V --> Score: 2407560.0\n",
      "PLAYERUNKNOWN'S BATTLEGROUNDS --> Score: 456375.0\n",
      "Rocket League® --> Score: 341242.5\n",
      "Rust --> Score: 210765.0\n",
      "Dead by Daylight --> Score: 92133.0\n"
     ]
    }
   ],
   "source": [
    "print('Antwort 1: Die 5 am höchsten bewerteten Games für den Suchterm sind:\\n {}'.format(evaluateScores(calculateScores(index, \"best game ever\"), corpus, 5)))"
   ]
  },
  {
   "cell_type": "code",
   "execution_count": null,
   "metadata": {},
   "outputs": [],
   "source": []
  }
 ],
 "metadata": {
  "interpreter": {
   "hash": "54bb09e0e1c4210a291a7e714438edc97697bb974e48d047e7feb14fe22a9873"
  },
  "kernelspec": {
   "display_name": "Python 3.7.4 64-bit",
   "language": "python",
   "name": "python3"
  },
  "language_info": {
   "codemirror_mode": {
    "name": "ipython",
    "version": 3
   },
   "file_extension": ".py",
   "mimetype": "text/x-python",
   "name": "python",
   "nbconvert_exporter": "python",
   "pygments_lexer": "ipython3",
   "version": "3.7.4"
  },
  "orig_nbformat": 4
 },
 "nbformat": 4,
 "nbformat_minor": 2
}
