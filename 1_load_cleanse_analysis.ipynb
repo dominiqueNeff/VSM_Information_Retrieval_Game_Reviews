{
 "cells": [
  {
   "cell_type": "code",
   "execution_count": 94,
   "metadata": {},
   "outputs": [],
   "source": [
    "import pandas as pd"
   ]
  },
  {
   "cell_type": "code",
   "execution_count": 95,
   "metadata": {},
   "outputs": [
    {
     "data": {
      "text/html": [
       "<div>\n",
       "<style scoped>\n",
       "    .dataframe tbody tr th:only-of-type {\n",
       "        vertical-align: middle;\n",
       "    }\n",
       "\n",
       "    .dataframe tbody tr th {\n",
       "        vertical-align: top;\n",
       "    }\n",
       "\n",
       "    .dataframe thead th {\n",
       "        text-align: right;\n",
       "    }\n",
       "</style>\n",
       "<table border=\"1\" class=\"dataframe\">\n",
       "  <thead>\n",
       "    <tr style=\"text-align: right;\">\n",
       "      <th></th>\n",
       "      <th>date_posted</th>\n",
       "      <th>funny</th>\n",
       "      <th>helpful</th>\n",
       "      <th>hour_played</th>\n",
       "      <th>is_early_access_review</th>\n",
       "      <th>recommendation</th>\n",
       "      <th>review</th>\n",
       "      <th>title</th>\n",
       "    </tr>\n",
       "  </thead>\n",
       "  <tbody>\n",
       "    <tr>\n",
       "      <td>0</td>\n",
       "      <td>2019-02-10</td>\n",
       "      <td>2</td>\n",
       "      <td>4</td>\n",
       "      <td>578</td>\n",
       "      <td>False</td>\n",
       "      <td>Recommended</td>\n",
       "      <td>&amp;gt Played as German Reich&amp;gt Declare war on B...</td>\n",
       "      <td>Expansion - Hearts of Iron IV: Man the Guns</td>\n",
       "    </tr>\n",
       "    <tr>\n",
       "      <td>1</td>\n",
       "      <td>2019-02-10</td>\n",
       "      <td>0</td>\n",
       "      <td>0</td>\n",
       "      <td>184</td>\n",
       "      <td>False</td>\n",
       "      <td>Recommended</td>\n",
       "      <td>yes.</td>\n",
       "      <td>Expansion - Hearts of Iron IV: Man the Guns</td>\n",
       "    </tr>\n",
       "    <tr>\n",
       "      <td>2</td>\n",
       "      <td>2019-02-07</td>\n",
       "      <td>0</td>\n",
       "      <td>0</td>\n",
       "      <td>892</td>\n",
       "      <td>False</td>\n",
       "      <td>Recommended</td>\n",
       "      <td>Very good game although a bit overpriced in my...</td>\n",
       "      <td>Expansion - Hearts of Iron IV: Man the Guns</td>\n",
       "    </tr>\n",
       "    <tr>\n",
       "      <td>3</td>\n",
       "      <td>2018-06-14</td>\n",
       "      <td>126</td>\n",
       "      <td>1086</td>\n",
       "      <td>676</td>\n",
       "      <td>False</td>\n",
       "      <td>Recommended</td>\n",
       "      <td>Out of all the reviews I wrote This one is pro...</td>\n",
       "      <td>Dead by Daylight</td>\n",
       "    </tr>\n",
       "    <tr>\n",
       "      <td>4</td>\n",
       "      <td>2017-06-20</td>\n",
       "      <td>85</td>\n",
       "      <td>2139</td>\n",
       "      <td>612</td>\n",
       "      <td>False</td>\n",
       "      <td>Recommended</td>\n",
       "      <td>Disclaimer I survivor main. I play games for f...</td>\n",
       "      <td>Dead by Daylight</td>\n",
       "    </tr>\n",
       "  </tbody>\n",
       "</table>\n",
       "</div>"
      ],
      "text/plain": [
       "  date_posted  funny  helpful  hour_played  is_early_access_review  \\\n",
       "0  2019-02-10      2        4          578                   False   \n",
       "1  2019-02-10      0        0          184                   False   \n",
       "2  2019-02-07      0        0          892                   False   \n",
       "3  2018-06-14    126     1086          676                   False   \n",
       "4  2017-06-20     85     2139          612                   False   \n",
       "\n",
       "  recommendation                                             review  \\\n",
       "0    Recommended  &gt Played as German Reich&gt Declare war on B...   \n",
       "1    Recommended                                               yes.   \n",
       "2    Recommended  Very good game although a bit overpriced in my...   \n",
       "3    Recommended  Out of all the reviews I wrote This one is pro...   \n",
       "4    Recommended  Disclaimer I survivor main. I play games for f...   \n",
       "\n",
       "                                         title  \n",
       "0  Expansion - Hearts of Iron IV: Man the Guns  \n",
       "1  Expansion - Hearts of Iron IV: Man the Guns  \n",
       "2  Expansion - Hearts of Iron IV: Man the Guns  \n",
       "3                             Dead by Daylight  \n",
       "4                             Dead by Daylight  "
      ]
     },
     "execution_count": 95,
     "metadata": {},
     "output_type": "execute_result"
    }
   ],
   "source": [
    "data = pd.read_csv('./data/steam_reviews.csv')\n",
    "\n",
    "data.head()"
   ]
  },
  {
   "cell_type": "code",
   "execution_count": 96,
   "metadata": {},
   "outputs": [
    {
     "data": {
      "text/plain": [
       "(434891, 8)"
      ]
     },
     "execution_count": 96,
     "metadata": {},
     "output_type": "execute_result"
    }
   ],
   "source": [
    "data.shape"
   ]
  },
  {
   "cell_type": "code",
   "execution_count": 97,
   "metadata": {},
   "outputs": [
    {
     "data": {
      "text/plain": [
       "(48,)"
      ]
     },
     "execution_count": 97,
     "metadata": {},
     "output_type": "execute_result"
    }
   ],
   "source": [
    "data['title'].unique().shape"
   ]
  },
  {
   "cell_type": "code",
   "execution_count": 98,
   "metadata": {},
   "outputs": [
    {
     "data": {
      "text/plain": [
       "PLAYERUNKNOWN'S BATTLEGROUNDS                    145685\n",
       "Grand Theft Auto V                                99956\n",
       "Rust                                              71088\n",
       "Rocket League®                                    67907\n",
       "Dead by Daylight                                  22221\n",
       "MONSTER HUNTER: WORLD                             18412\n",
       "ASTRONEER                                          2661\n",
       "The Elder Scrolls V: Skyrim Special Edition        1473\n",
       "RESIDENT EVIL 2 / BIOHAZARD RE:2                   1385\n",
       "Sid Meier’s Civilization® VI                        522\n",
       "Euro Truck Simulator 2                              501\n",
       "Terraria                                            260\n",
       "Slay the Spire                                      260\n",
       "Subnautica                                          247\n",
       "Left 4 Dead 2                                       221\n",
       "Insurgency: Sandstorm                               220\n",
       "RimWorld                                            204\n",
       "Garry's Mod                                         202\n",
       "Stardew Valley                                      202\n",
       "ARK: Survival Evolved                               195\n",
       "Divinity: Original Sin 2 - Definitive Edition       190\n",
       "Human: Fall Flat                                    172\n",
       "Factorio                                            170\n",
       "Wallpaper Engine                                    170\n",
       "Don't Starve Together                               165\n",
       "NBA 2K19                                             10\n",
       "Overcooked! 2                                        10\n",
       "Warhammer 40,000: Mechanicus                         10\n",
       "Moonlighter                                          10\n",
       "Battlefleet Gothic: Armada 2                         10\n",
       "Pathfinder: Kingmaker                                10\n",
       "Tannenberg                                           10\n",
       "Kenshi                                               10\n",
       "Beat Saber                                           10\n",
       "Wargroove                                            10\n",
       "Cold Waters                                          10\n",
       "Subnautica: Below Zero                               10\n",
       "GOD EATER 3                                          10\n",
       "ACE COMBAT™ 7: SKIES UNKNOWN                         10\n",
       "Foundation                                           10\n",
       "My Time At Portia                                    10\n",
       "Football Manager 2019                                10\n",
       "Tom Clancy's Rainbow Six® Siege                      10\n",
       "Farming Simulator 19                                 10\n",
       "Sid Meier’s Civilization® VI: Rise and Fall           3\n",
       "Survivor Pass: Vikendi                                3\n",
       "Expansion - Hearts of Iron IV: Man the Guns           3\n",
       "Sid Meier's Civilization® VI: Gathering Storm         3\n",
       "Name: title, dtype: int64"
      ]
     },
     "execution_count": 98,
     "metadata": {},
     "output_type": "execute_result"
    }
   ],
   "source": [
    "# Reviews pro Spiel\n",
    "data['title'].value_counts()"
   ]
  },
  {
   "cell_type": "code",
   "execution_count": 99,
   "metadata": {},
   "outputs": [],
   "source": [
    "data['review length'] = data['review'].str.len()"
   ]
  },
  {
   "cell_type": "code",
   "execution_count": 100,
   "metadata": {},
   "outputs": [
    {
     "name": "stdout",
     "output_type": "stream",
     "text": [
      "1.0\n",
      "31949.0\n"
     ]
    }
   ],
   "source": [
    "print(data['review length'].min())\n",
    "print(data['review length'].max())"
   ]
  },
  {
   "cell_type": "code",
   "execution_count": 102,
   "metadata": {},
   "outputs": [
    {
     "data": {
      "text/plain": [
       "PLAYERUNKNOWN'S BATTLEGROUNDS                    46817\n",
       "Grand Theft Auto V                               30970\n",
       "Rust                                             24261\n",
       "Rocket League®                                   15703\n",
       "Dead by Daylight                                  8603\n",
       "MONSTER HUNTER: WORLD                             8290\n",
       "ASTRONEER                                         1436\n",
       "The Elder Scrolls V: Skyrim Special Edition        787\n",
       "RESIDENT EVIL 2 / BIOHAZARD RE:2                   594\n",
       "Sid Meier’s Civilization® VI                       320\n",
       "Euro Truck Simulator 2                             163\n",
       "Subnautica                                         131\n",
       "ARK: Survival Evolved                              130\n",
       "Terraria                                            97\n",
       "Stardew Valley                                      94\n",
       "Slay the Spire                                      90\n",
       "Insurgency: Sandstorm                               89\n",
       "Divinity: Original Sin 2 - Definitive Edition       75\n",
       "RimWorld                                            72\n",
       "Factorio                                            71\n",
       "Garry's Mod                                         62\n",
       "Human: Fall Flat                                    61\n",
       "Left 4 Dead 2                                       55\n",
       "Don't Starve Together                               49\n",
       "Wallpaper Engine                                    35\n",
       "Pathfinder: Kingmaker                               10\n",
       "Football Manager 2019                               10\n",
       "Cold Waters                                         10\n",
       "My Time At Portia                                   10\n",
       "Warhammer 40,000: Mechanicus                        10\n",
       "Tannenberg                                           9\n",
       "Foundation                                           9\n",
       "Tom Clancy's Rainbow Six® Siege                      9\n",
       "NBA 2K19                                             9\n",
       "Kenshi                                               9\n",
       "Moonlighter                                          9\n",
       "Farming Simulator 19                                 9\n",
       "Subnautica: Below Zero                               8\n",
       "Wargroove                                            8\n",
       "GOD EATER 3                                          8\n",
       "Battlefleet Gothic: Armada 2                         8\n",
       "ACE COMBAT™ 7: SKIES UNKNOWN                         8\n",
       "Beat Saber                                           6\n",
       "Overcooked! 2                                        5\n",
       "Sid Meier's Civilization® VI: Gathering Storm        3\n",
       "Sid Meier’s Civilization® VI: Rise and Fall          3\n",
       "Expansion - Hearts of Iron IV: Man the Guns          2\n",
       "Name: title, dtype: int64"
      ]
     },
     "execution_count": 102,
     "metadata": {},
     "output_type": "execute_result"
    }
   ],
   "source": [
    "data.loc[data['review length'] > 150.0]['title'].value_counts()"
   ]
  },
  {
   "cell_type": "markdown",
   "metadata": {},
   "source": [
    "## Nur Reviews > 150 characters"
   ]
  },
  {
   "cell_type": "code",
   "execution_count": 103,
   "metadata": {},
   "outputs": [],
   "source": [
    "data_temp = data.loc[data['review length'] > 150.0]"
   ]
  },
  {
   "cell_type": "code",
   "execution_count": 104,
   "metadata": {},
   "outputs": [
    {
     "data": {
      "text/plain": [
       "Recommended        82300\n",
       "Not Recommended    56927\n",
       "Name: recommendation, dtype: int64"
      ]
     },
     "execution_count": 104,
     "metadata": {},
     "output_type": "execute_result"
    }
   ],
   "source": [
    "data_temp['recommendation'].value_counts()"
   ]
  },
  {
   "cell_type": "code",
   "execution_count": 105,
   "metadata": {},
   "outputs": [
    {
     "data": {
      "text/plain": [
       "date_posted               0\n",
       "funny                     0\n",
       "helpful                   0\n",
       "hour_played               0\n",
       "is_early_access_review    0\n",
       "recommendation            0\n",
       "review                    0\n",
       "title                     0\n",
       "review length             0\n",
       "dtype: int64"
      ]
     },
     "execution_count": 105,
     "metadata": {},
     "output_type": "execute_result"
    }
   ],
   "source": [
    "# Keine Nulls in allen Spalten\n",
    "data_temp.isnull().sum()"
   ]
  },
  {
   "cell_type": "code",
   "execution_count": 106,
   "metadata": {},
   "outputs": [
    {
     "data": {
      "text/html": [
       "<div>\n",
       "<style scoped>\n",
       "    .dataframe tbody tr th:only-of-type {\n",
       "        vertical-align: middle;\n",
       "    }\n",
       "\n",
       "    .dataframe tbody tr th {\n",
       "        vertical-align: top;\n",
       "    }\n",
       "\n",
       "    .dataframe thead th {\n",
       "        text-align: right;\n",
       "    }\n",
       "</style>\n",
       "<table border=\"1\" class=\"dataframe\">\n",
       "  <thead>\n",
       "    <tr style=\"text-align: right;\">\n",
       "      <th></th>\n",
       "      <th>funny</th>\n",
       "      <th>helpful</th>\n",
       "      <th>hour_played</th>\n",
       "      <th>review length</th>\n",
       "    </tr>\n",
       "  </thead>\n",
       "  <tbody>\n",
       "    <tr>\n",
       "      <td>count</td>\n",
       "      <td>1.392270e+05</td>\n",
       "      <td>139227.000000</td>\n",
       "      <td>139227.000000</td>\n",
       "      <td>139227.000000</td>\n",
       "    </tr>\n",
       "    <tr>\n",
       "      <td>mean</td>\n",
       "      <td>7.712172e+05</td>\n",
       "      <td>2.336063</td>\n",
       "      <td>363.567275</td>\n",
       "      <td>575.551007</td>\n",
       "    </tr>\n",
       "    <tr>\n",
       "      <td>std</td>\n",
       "      <td>5.754806e+07</td>\n",
       "      <td>102.545151</td>\n",
       "      <td>541.811240</td>\n",
       "      <td>711.451273</td>\n",
       "    </tr>\n",
       "    <tr>\n",
       "      <td>min</td>\n",
       "      <td>0.000000e+00</td>\n",
       "      <td>0.000000</td>\n",
       "      <td>0.000000</td>\n",
       "      <td>151.000000</td>\n",
       "    </tr>\n",
       "    <tr>\n",
       "      <td>25%</td>\n",
       "      <td>0.000000e+00</td>\n",
       "      <td>0.000000</td>\n",
       "      <td>64.000000</td>\n",
       "      <td>220.000000</td>\n",
       "    </tr>\n",
       "    <tr>\n",
       "      <td>50%</td>\n",
       "      <td>0.000000e+00</td>\n",
       "      <td>0.000000</td>\n",
       "      <td>191.000000</td>\n",
       "      <td>345.000000</td>\n",
       "    </tr>\n",
       "    <tr>\n",
       "      <td>75%</td>\n",
       "      <td>0.000000e+00</td>\n",
       "      <td>0.000000</td>\n",
       "      <td>451.000000</td>\n",
       "      <td>631.000000</td>\n",
       "    </tr>\n",
       "    <tr>\n",
       "      <td>max</td>\n",
       "      <td>4.294967e+09</td>\n",
       "      <td>28171.000000</td>\n",
       "      <td>22393.000000</td>\n",
       "      <td>31949.000000</td>\n",
       "    </tr>\n",
       "  </tbody>\n",
       "</table>\n",
       "</div>"
      ],
      "text/plain": [
       "              funny        helpful    hour_played  review length\n",
       "count  1.392270e+05  139227.000000  139227.000000  139227.000000\n",
       "mean   7.712172e+05       2.336063     363.567275     575.551007\n",
       "std    5.754806e+07     102.545151     541.811240     711.451273\n",
       "min    0.000000e+00       0.000000       0.000000     151.000000\n",
       "25%    0.000000e+00       0.000000      64.000000     220.000000\n",
       "50%    0.000000e+00       0.000000     191.000000     345.000000\n",
       "75%    0.000000e+00       0.000000     451.000000     631.000000\n",
       "max    4.294967e+09   28171.000000   22393.000000   31949.000000"
      ]
     },
     "execution_count": 106,
     "metadata": {},
     "output_type": "execute_result"
    }
   ],
   "source": [
    "data_temp.describe()\n",
    "# Es scheint das es Reviews gibt die 4'294'967'000 Funny Reactions. "
   ]
  },
  {
   "cell_type": "code",
   "execution_count": 107,
   "metadata": {},
   "outputs": [
    {
     "data": {
      "text/plain": [
       "25"
      ]
     },
     "execution_count": 107,
     "metadata": {},
     "output_type": "execute_result"
    }
   ],
   "source": [
    "data_temp[data_temp['funny'] > 10000]['funny'].count()\n",
    "# 25 Stück"
   ]
  },
  {
   "cell_type": "markdown",
   "metadata": {},
   "source": [
    "Insgesamt gibt es 25 davon. Sehr wahrscheinlich sind das nicht korrekte Werte."
   ]
  },
  {
   "cell_type": "code",
   "execution_count": 108,
   "metadata": {},
   "outputs": [],
   "source": [
    "def fix_funny(count):\n",
    "    if(count > 100000):\n",
    "        return 0\n",
    "    else:\n",
    "        return count"
   ]
  },
  {
   "cell_type": "code",
   "execution_count": 109,
   "metadata": {},
   "outputs": [
    {
     "name": "stderr",
     "output_type": "stream",
     "text": [
      "C:\\Users\\ikee9\\AppData\\Local\\Programs\\Python\\Python37\\lib\\site-packages\\ipykernel_launcher.py:1: SettingWithCopyWarning: \n",
      "A value is trying to be set on a copy of a slice from a DataFrame.\n",
      "Try using .loc[row_indexer,col_indexer] = value instead\n",
      "\n",
      "See the caveats in the documentation: http://pandas.pydata.org/pandas-docs/stable/user_guide/indexing.html#returning-a-view-versus-a-copy\n",
      "  \"\"\"Entry point for launching an IPython kernel.\n"
     ]
    }
   ],
   "source": [
    "data_temp['funny'] = data_temp['funny'].apply(fix_funny)"
   ]
  },
  {
   "cell_type": "code",
   "execution_count": 110,
   "metadata": {},
   "outputs": [
    {
     "data": {
      "text/plain": [
       "count    139227.000000\n",
       "mean          0.540908\n",
       "std          25.867791\n",
       "min           0.000000\n",
       "25%           0.000000\n",
       "50%           0.000000\n",
       "75%           0.000000\n",
       "max        7472.000000\n",
       "Name: funny, dtype: float64"
      ]
     },
     "execution_count": 110,
     "metadata": {},
     "output_type": "execute_result"
    }
   ],
   "source": [
    "data_temp['funny'].describe()"
   ]
  },
  {
   "cell_type": "code",
   "execution_count": 111,
   "metadata": {},
   "outputs": [
    {
     "data": {
      "text/plain": [
       "False    97028\n",
       "True     42199\n",
       "Name: is_early_access_review, dtype: int64"
      ]
     },
     "execution_count": 111,
     "metadata": {},
     "output_type": "execute_result"
    }
   ],
   "source": [
    "# Early Accevss\n",
    "data_temp['is_early_access_review'].value_counts()"
   ]
  },
  {
   "cell_type": "code",
   "execution_count": 112,
   "metadata": {},
   "outputs": [
    {
     "data": {
      "text/plain": [
       "Recommended        82300\n",
       "Not Recommended    56927\n",
       "Name: recommendation, dtype: int64"
      ]
     },
     "execution_count": 112,
     "metadata": {},
     "output_type": "execute_result"
    }
   ],
   "source": [
    "data_temp['recommendation'].value_counts()"
   ]
  },
  {
   "cell_type": "code",
   "execution_count": 113,
   "metadata": {},
   "outputs": [
    {
     "data": {
      "text/plain": [
       "count    139227.000000\n",
       "mean        575.551007\n",
       "std         711.451273\n",
       "min         151.000000\n",
       "25%         220.000000\n",
       "50%         345.000000\n",
       "75%         631.000000\n",
       "max       31949.000000\n",
       "Name: review length, dtype: float64"
      ]
     },
     "execution_count": 113,
     "metadata": {},
     "output_type": "execute_result"
    }
   ],
   "source": [
    "data_temp['review length'].describe()"
   ]
  },
  {
   "cell_type": "markdown",
   "metadata": {},
   "source": [
    "## Reviews Analyse"
   ]
  },
  {
   "cell_type": "code",
   "execution_count": 114,
   "metadata": {},
   "outputs": [],
   "source": [
    "games_reviewed = data_temp.groupby('title').count()"
   ]
  },
  {
   "cell_type": "code",
   "execution_count": 115,
   "metadata": {},
   "outputs": [],
   "source": [
    "games_reviewed = games_reviewed[['date_posted']]"
   ]
  },
  {
   "cell_type": "code",
   "execution_count": 116,
   "metadata": {},
   "outputs": [],
   "source": [
    "games_reviewed.columns = ['review_count']"
   ]
  },
  {
   "cell_type": "code",
   "execution_count": 117,
   "metadata": {},
   "outputs": [
    {
     "data": {
      "text/html": [
       "<div>\n",
       "<style scoped>\n",
       "    .dataframe tbody tr th:only-of-type {\n",
       "        vertical-align: middle;\n",
       "    }\n",
       "\n",
       "    .dataframe tbody tr th {\n",
       "        vertical-align: top;\n",
       "    }\n",
       "\n",
       "    .dataframe thead th {\n",
       "        text-align: right;\n",
       "    }\n",
       "</style>\n",
       "<table border=\"1\" class=\"dataframe\">\n",
       "  <thead>\n",
       "    <tr style=\"text-align: right;\">\n",
       "      <th></th>\n",
       "      <th>review_count</th>\n",
       "    </tr>\n",
       "    <tr>\n",
       "      <th>title</th>\n",
       "      <th></th>\n",
       "    </tr>\n",
       "  </thead>\n",
       "  <tbody>\n",
       "    <tr>\n",
       "      <td>ACE COMBAT™ 7: SKIES UNKNOWN</td>\n",
       "      <td>8</td>\n",
       "    </tr>\n",
       "    <tr>\n",
       "      <td>ARK: Survival Evolved</td>\n",
       "      <td>130</td>\n",
       "    </tr>\n",
       "    <tr>\n",
       "      <td>ASTRONEER</td>\n",
       "      <td>1436</td>\n",
       "    </tr>\n",
       "    <tr>\n",
       "      <td>Battlefleet Gothic: Armada 2</td>\n",
       "      <td>8</td>\n",
       "    </tr>\n",
       "    <tr>\n",
       "      <td>Beat Saber</td>\n",
       "      <td>6</td>\n",
       "    </tr>\n",
       "  </tbody>\n",
       "</table>\n",
       "</div>"
      ],
      "text/plain": [
       "                              review_count\n",
       "title                                     \n",
       "ACE COMBAT™ 7: SKIES UNKNOWN             8\n",
       "ARK: Survival Evolved                  130\n",
       "ASTRONEER                             1436\n",
       "Battlefleet Gothic: Armada 2             8\n",
       "Beat Saber                               6"
      ]
     },
     "execution_count": 117,
     "metadata": {},
     "output_type": "execute_result"
    }
   ],
   "source": [
    "games_reviewed.head()"
   ]
  },
  {
   "cell_type": "code",
   "execution_count": 118,
   "metadata": {},
   "outputs": [
    {
     "data": {
      "text/html": [
       "<div>\n",
       "<style scoped>\n",
       "    .dataframe tbody tr th:only-of-type {\n",
       "        vertical-align: middle;\n",
       "    }\n",
       "\n",
       "    .dataframe tbody tr th {\n",
       "        vertical-align: top;\n",
       "    }\n",
       "\n",
       "    .dataframe thead th {\n",
       "        text-align: right;\n",
       "    }\n",
       "</style>\n",
       "<table border=\"1\" class=\"dataframe\">\n",
       "  <thead>\n",
       "    <tr style=\"text-align: right;\">\n",
       "      <th></th>\n",
       "      <th>date_posted</th>\n",
       "      <th>funny</th>\n",
       "      <th>helpful</th>\n",
       "      <th>hour_played</th>\n",
       "      <th>is_early_access_review</th>\n",
       "      <th>recommendation</th>\n",
       "      <th>review</th>\n",
       "      <th>title</th>\n",
       "      <th>review length</th>\n",
       "    </tr>\n",
       "  </thead>\n",
       "  <tbody>\n",
       "    <tr>\n",
       "      <td>0</td>\n",
       "      <td>2019-02-10</td>\n",
       "      <td>2</td>\n",
       "      <td>4</td>\n",
       "      <td>578</td>\n",
       "      <td>False</td>\n",
       "      <td>Recommended</td>\n",
       "      <td>&amp;gt Played as German Reich&amp;gt Declare war on B...</td>\n",
       "      <td>Expansion - Hearts of Iron IV: Man the Guns</td>\n",
       "      <td>195.0</td>\n",
       "    </tr>\n",
       "    <tr>\n",
       "      <td>2</td>\n",
       "      <td>2019-02-07</td>\n",
       "      <td>0</td>\n",
       "      <td>0</td>\n",
       "      <td>892</td>\n",
       "      <td>False</td>\n",
       "      <td>Recommended</td>\n",
       "      <td>Very good game although a bit overpriced in my...</td>\n",
       "      <td>Expansion - Hearts of Iron IV: Man the Guns</td>\n",
       "      <td>171.0</td>\n",
       "    </tr>\n",
       "    <tr>\n",
       "      <td>3</td>\n",
       "      <td>2018-06-14</td>\n",
       "      <td>126</td>\n",
       "      <td>1086</td>\n",
       "      <td>676</td>\n",
       "      <td>False</td>\n",
       "      <td>Recommended</td>\n",
       "      <td>Out of all the reviews I wrote This one is pro...</td>\n",
       "      <td>Dead by Daylight</td>\n",
       "      <td>2094.0</td>\n",
       "    </tr>\n",
       "    <tr>\n",
       "      <td>4</td>\n",
       "      <td>2017-06-20</td>\n",
       "      <td>85</td>\n",
       "      <td>2139</td>\n",
       "      <td>612</td>\n",
       "      <td>False</td>\n",
       "      <td>Recommended</td>\n",
       "      <td>Disclaimer I survivor main. I play games for f...</td>\n",
       "      <td>Dead by Daylight</td>\n",
       "      <td>1397.0</td>\n",
       "    </tr>\n",
       "    <tr>\n",
       "      <td>5</td>\n",
       "      <td>2016-12-12</td>\n",
       "      <td>4</td>\n",
       "      <td>55</td>\n",
       "      <td>2694</td>\n",
       "      <td>False</td>\n",
       "      <td>Recommended</td>\n",
       "      <td>ENGLISH After playing for more than two years ...</td>\n",
       "      <td>Dead by Daylight</td>\n",
       "      <td>4836.0</td>\n",
       "    </tr>\n",
       "  </tbody>\n",
       "</table>\n",
       "</div>"
      ],
      "text/plain": [
       "  date_posted  funny  helpful  hour_played  is_early_access_review  \\\n",
       "0  2019-02-10      2        4          578                   False   \n",
       "2  2019-02-07      0        0          892                   False   \n",
       "3  2018-06-14    126     1086          676                   False   \n",
       "4  2017-06-20     85     2139          612                   False   \n",
       "5  2016-12-12      4       55         2694                   False   \n",
       "\n",
       "  recommendation                                             review  \\\n",
       "0    Recommended  &gt Played as German Reich&gt Declare war on B...   \n",
       "2    Recommended  Very good game although a bit overpriced in my...   \n",
       "3    Recommended  Out of all the reviews I wrote This one is pro...   \n",
       "4    Recommended  Disclaimer I survivor main. I play games for f...   \n",
       "5    Recommended  ENGLISH After playing for more than two years ...   \n",
       "\n",
       "                                         title  review length  \n",
       "0  Expansion - Hearts of Iron IV: Man the Guns          195.0  \n",
       "2  Expansion - Hearts of Iron IV: Man the Guns          171.0  \n",
       "3                             Dead by Daylight         2094.0  \n",
       "4                             Dead by Daylight         1397.0  \n",
       "5                             Dead by Daylight         4836.0  "
      ]
     },
     "execution_count": 118,
     "metadata": {},
     "output_type": "execute_result"
    }
   ],
   "source": [
    "data_temp.head()"
   ]
  },
  {
   "cell_type": "code",
   "execution_count": null,
   "metadata": {},
   "outputs": [],
   "source": []
  },
  {
   "cell_type": "code",
   "execution_count": 119,
   "metadata": {},
   "outputs": [
    {
     "name": "stderr",
     "output_type": "stream",
     "text": [
      "C:\\Users\\ikee9\\AppData\\Local\\Programs\\Python\\Python37\\lib\\site-packages\\ipykernel_launcher.py:1: SettingWithCopyWarning: \n",
      "A value is trying to be set on a copy of a slice from a DataFrame.\n",
      "Try using .loc[row_indexer,col_indexer] = value instead\n",
      "\n",
      "See the caveats in the documentation: http://pandas.pydata.org/pandas-docs/stable/user_guide/indexing.html#returning-a-view-versus-a-copy\n",
      "  \"\"\"Entry point for launching an IPython kernel.\n"
     ]
    }
   ],
   "source": [
    "data_temp['recommendation'] = data_temp['recommendation'] == 'Recommended'"
   ]
  },
  {
   "cell_type": "code",
   "execution_count": 120,
   "metadata": {},
   "outputs": [],
   "source": [
    "# Anzahl Recommendation\n",
    "games_reviewed['recommendation_count'] = data_temp.groupby('title').sum()['recommendation']"
   ]
  },
  {
   "cell_type": "code",
   "execution_count": 121,
   "metadata": {},
   "outputs": [],
   "source": [
    "# Ratio Recommendation\n",
    "games_reviewed['recommendation_ratio'] = games_reviewed['recommendation_count']/games_reviewed['review_count']"
   ]
  },
  {
   "cell_type": "code",
   "execution_count": 122,
   "metadata": {},
   "outputs": [],
   "source": [
    "# Durchschnittliche Anzahl Stunden pro Spiel\n",
    "games_reviewed['avg_playtime'] = data_temp.groupby('title').sum()['hour_played'] / games_reviewed['review_count']"
   ]
  },
  {
   "cell_type": "code",
   "execution_count": 123,
   "metadata": {},
   "outputs": [],
   "source": [
    "games_reviewed['reviews_combined'] = data_temp.groupby('title')['review'].apply(lambda x: ' '.join(x))"
   ]
  },
  {
   "cell_type": "code",
   "execution_count": 124,
   "metadata": {},
   "outputs": [],
   "source": [
    "games_reviewed = games_reviewed.reset_index()"
   ]
  },
  {
   "cell_type": "code",
   "execution_count": 125,
   "metadata": {},
   "outputs": [
    {
     "data": {
      "text/html": [
       "<div>\n",
       "<style scoped>\n",
       "    .dataframe tbody tr th:only-of-type {\n",
       "        vertical-align: middle;\n",
       "    }\n",
       "\n",
       "    .dataframe tbody tr th {\n",
       "        vertical-align: top;\n",
       "    }\n",
       "\n",
       "    .dataframe thead th {\n",
       "        text-align: right;\n",
       "    }\n",
       "</style>\n",
       "<table border=\"1\" class=\"dataframe\">\n",
       "  <thead>\n",
       "    <tr style=\"text-align: right;\">\n",
       "      <th></th>\n",
       "      <th>title</th>\n",
       "      <th>review_count</th>\n",
       "      <th>recommendation_count</th>\n",
       "      <th>recommendation_ratio</th>\n",
       "      <th>avg_playtime</th>\n",
       "      <th>reviews_combined</th>\n",
       "    </tr>\n",
       "  </thead>\n",
       "  <tbody>\n",
       "    <tr>\n",
       "      <td>0</td>\n",
       "      <td>ACE COMBAT™ 7: SKIES UNKNOWN</td>\n",
       "      <td>8</td>\n",
       "      <td>8.0</td>\n",
       "      <td>1.000000</td>\n",
       "      <td>19.750000</td>\n",
       "      <td>Oh man it's been at least a decade since Ace C...</td>\n",
       "    </tr>\n",
       "    <tr>\n",
       "      <td>1</td>\n",
       "      <td>ARK: Survival Evolved</td>\n",
       "      <td>130</td>\n",
       "      <td>25.0</td>\n",
       "      <td>0.192308</td>\n",
       "      <td>1007.007692</td>\n",
       "      <td>Before i start the review THE GAMEPLAY OF THIS...</td>\n",
       "    </tr>\n",
       "    <tr>\n",
       "      <td>2</td>\n",
       "      <td>ASTRONEER</td>\n",
       "      <td>1436</td>\n",
       "      <td>1368.0</td>\n",
       "      <td>0.952646</td>\n",
       "      <td>54.400418</td>\n",
       "      <td>i have not played much of this game and i dont...</td>\n",
       "    </tr>\n",
       "    <tr>\n",
       "      <td>3</td>\n",
       "      <td>Battlefleet Gothic: Armada 2</td>\n",
       "      <td>8</td>\n",
       "      <td>6.0</td>\n",
       "      <td>0.750000</td>\n",
       "      <td>62.750000</td>\n",
       "      <td>Dear Devs thanks for taking your time and maki...</td>\n",
       "    </tr>\n",
       "    <tr>\n",
       "      <td>4</td>\n",
       "      <td>Beat Saber</td>\n",
       "      <td>6</td>\n",
       "      <td>6.0</td>\n",
       "      <td>1.000000</td>\n",
       "      <td>80.500000</td>\n",
       "      <td>When I pull off a really difficult section I g...</td>\n",
       "    </tr>\n",
       "  </tbody>\n",
       "</table>\n",
       "</div>"
      ],
      "text/plain": [
       "                          title  review_count  recommendation_count  \\\n",
       "0  ACE COMBAT™ 7: SKIES UNKNOWN             8                   8.0   \n",
       "1         ARK: Survival Evolved           130                  25.0   \n",
       "2                     ASTRONEER          1436                1368.0   \n",
       "3  Battlefleet Gothic: Armada 2             8                   6.0   \n",
       "4                    Beat Saber             6                   6.0   \n",
       "\n",
       "   recommendation_ratio  avg_playtime  \\\n",
       "0              1.000000     19.750000   \n",
       "1              0.192308   1007.007692   \n",
       "2              0.952646     54.400418   \n",
       "3              0.750000     62.750000   \n",
       "4              1.000000     80.500000   \n",
       "\n",
       "                                    reviews_combined  \n",
       "0  Oh man it's been at least a decade since Ace C...  \n",
       "1  Before i start the review THE GAMEPLAY OF THIS...  \n",
       "2  i have not played much of this game and i dont...  \n",
       "3  Dear Devs thanks for taking your time and maki...  \n",
       "4  When I pull off a really difficult section I g...  "
      ]
     },
     "execution_count": 125,
     "metadata": {},
     "output_type": "execute_result"
    }
   ],
   "source": [
    "games_reviewed.head()"
   ]
  },
  {
   "cell_type": "markdown",
   "metadata": {},
   "source": [
    "## Plots"
   ]
  },
  {
   "cell_type": "code",
   "execution_count": 126,
   "metadata": {},
   "outputs": [],
   "source": [
    "import matplotlib.pyplot as plt\n",
    "import matplotlib.patches as mpatches\n",
    "import seaborn as sns"
   ]
  },
  {
   "cell_type": "code",
   "execution_count": 127,
   "metadata": {},
   "outputs": [],
   "source": [
    "def sort_games(by, ascending=False, min_review_count=None):\n",
    "\n",
    "    if min_review_count == None:\n",
    "        return games_reviewed.sort_values(by=by, ascending=ascending)\n",
    "    else:\n",
    "        return (games_reviewed[games_reviewed['review_count'] >= min_review_count]\n",
    "                                        .sort_values(by=by, ascending=ascending))"
   ]
  },
  {
   "cell_type": "code",
   "execution_count": 128,
   "metadata": {},
   "outputs": [],
   "source": [
    "sorted_games = sort_games(by='avg_playtime', ascending = True)"
   ]
  },
  {
   "cell_type": "code",
   "execution_count": 129,
   "metadata": {},
   "outputs": [
    {
     "data": {
      "text/plain": [
       "<matplotlib.legend.Legend at 0x1869b30c388>"
      ]
     },
     "execution_count": 129,
     "metadata": {},
     "output_type": "execute_result"
    },
    {
     "data": {
      "image/png": "[encoded data removed]",
      "text/plain": [
       "<Figure size 720x864 with 1 Axes>"
      ]
     },
     "metadata": {
      "needs_background": "light"
     },
     "output_type": "display_data"
    }
   ],
   "source": [
    "fig, ax = plt.subplots()\n",
    "fig.set_size_inches(10,12)\n",
    "\n",
    "good_review_heights = (sorted_games['avg_playtime'] * \n",
    "                       sorted_games['recommendation_ratio'])\n",
    "bad_review_heights = sorted_games['avg_playtime'] - good_review_heights\n",
    "\n",
    "p1 = plt.barh(y=sorted_games['title'], width=good_review_heights, \n",
    "              color='green')\n",
    "p2 = plt.barh(y=sorted_games['title'], width=bad_review_heights, \n",
    "              left=good_review_heights, color='red')\n",
    "\n",
    "plt.title('Average playtime of each reviewed game')\n",
    "plt.xlabel('Average hours played')\n",
    "plt.legend([p1, p2], ['Recommended', 'Not Recommended'], loc='lower right')"
   ]
  },
  {
   "cell_type": "code",
   "execution_count": 130,
   "metadata": {},
   "outputs": [
    {
     "data": {
      "text/plain": [
       "1781"
      ]
     },
     "execution_count": 130,
     "metadata": {},
     "output_type": "execute_result"
    }
   ],
   "source": [
    "# Anzahl Reviewers mit 0 Playtime\n",
    "len(data_temp[data_temp['hour_played'] == 0])"
   ]
  },
  {
   "cell_type": "code",
   "execution_count": 131,
   "metadata": {},
   "outputs": [],
   "source": [
    "sorted_games2 = sort_games(by='review_count', ascending = True)"
   ]
  },
  {
   "cell_type": "code",
   "execution_count": 139,
   "metadata": {},
   "outputs": [
    {
     "data": {
      "text/plain": [
       "Text(0.5, 0, 'Number of reviews')"
      ]
     },
     "execution_count": 139,
     "metadata": {},
     "output_type": "execute_result"
    },
    {
     "data": {
      "image/png": "[encoded data removed]",
      "text/plain": [
       "<Figure size 720x864 with 1 Axes>"
      ]
     },
     "metadata": {
      "needs_background": "light"
     },
     "output_type": "display_data"
    }
   ],
   "source": [
    "fig, ax = plt.subplots()\n",
    "fig.set_size_inches(10,12)\n",
    "\n",
    "plt.barh(y = sorted_games2['title'],width=sorted_games2['review_count'], color = 'green')\n",
    "\n",
    "plt.title('Number of reviews of each game')\n",
    "plt.xlabel('Number of reviews')"
   ]
  },
  {
   "cell_type": "code",
   "execution_count": 133,
   "metadata": {},
   "outputs": [
    {
     "data": {
      "text/plain": [
       "([<matplotlib.axis.XTick at 0x186acd98ac8>,\n",
       "  <matplotlib.axis.XTick at 0x186acd98108>],\n",
       " <a list of 2 Text xticklabel objects>)"
      ]
     },
     "execution_count": 133,
     "metadata": {},
     "output_type": "execute_result"
    },
    {
     "data": {
      "image/png": "[encoded data removed]",
      "text/plain": [
       "<Figure size 432x288 with 1 Axes>"
      ]
     },
     "metadata": {
      "needs_background": "light"
     },
     "output_type": "display_data"
    }
   ],
   "source": [
    "# Average review lengths\n",
    "recommended = data_temp[data_temp['recommendation']]\n",
    "not_recommended = data_temp[~data_temp['recommendation']]\n",
    "\n",
    "plt.bar(x=0, height=recommended['review length'].mean(), color='green')\n",
    "plt.bar(x=1, height=not_recommended['review length'].mean(), color='red')\n",
    "plt.title('Average review length')\n",
    "plt.ylabel('Review length (# of characters)')\n",
    "plt.xticks(ticks=[0, 1], labels=['Recommended', 'Not recommended'])"
   ]
  },
  {
   "cell_type": "code",
   "execution_count": 134,
   "metadata": {},
   "outputs": [
    {
     "data": {
      "text/plain": [
       "554.1981409477521"
      ]
     },
     "execution_count": 134,
     "metadata": {},
     "output_type": "execute_result"
    }
   ],
   "source": [
    "# Recommended durchschnittliche Länge\n",
    "recommended['review length'].mean()"
   ]
  },
  {
   "cell_type": "code",
   "execution_count": 135,
   "metadata": {},
   "outputs": [
    {
     "data": {
      "text/plain": [
       "606.4210831415672"
      ]
     },
     "execution_count": 135,
     "metadata": {},
     "output_type": "execute_result"
    }
   ],
   "source": [
    "# Not recommended durchschnittliche Länge\n",
    "not_recommended['review length'].mean()"
   ]
  },
  {
   "cell_type": "code",
   "execution_count": 136,
   "metadata": {},
   "outputs": [
    {
     "data": {
      "text/html": [
       "<div>\n",
       "<style scoped>\n",
       "    .dataframe tbody tr th:only-of-type {\n",
       "        vertical-align: middle;\n",
       "    }\n",
       "\n",
       "    .dataframe tbody tr th {\n",
       "        vertical-align: top;\n",
       "    }\n",
       "\n",
       "    .dataframe thead th {\n",
       "        text-align: right;\n",
       "    }\n",
       "</style>\n",
       "<table border=\"1\" class=\"dataframe\">\n",
       "  <thead>\n",
       "    <tr style=\"text-align: right;\">\n",
       "      <th></th>\n",
       "      <th>title</th>\n",
       "      <th>review_count</th>\n",
       "      <th>recommendation_count</th>\n",
       "      <th>recommendation_ratio</th>\n",
       "      <th>avg_playtime</th>\n",
       "      <th>reviews_combined</th>\n",
       "    </tr>\n",
       "  </thead>\n",
       "  <tbody>\n",
       "    <tr>\n",
       "      <td>0</td>\n",
       "      <td>ACE COMBAT™ 7: SKIES UNKNOWN</td>\n",
       "      <td>8</td>\n",
       "      <td>8.0</td>\n",
       "      <td>1.000000</td>\n",
       "      <td>19.750000</td>\n",
       "      <td>Oh man it's been at least a decade since Ace C...</td>\n",
       "    </tr>\n",
       "    <tr>\n",
       "      <td>3</td>\n",
       "      <td>Battlefleet Gothic: Armada 2</td>\n",
       "      <td>8</td>\n",
       "      <td>6.0</td>\n",
       "      <td>0.750000</td>\n",
       "      <td>62.750000</td>\n",
       "      <td>Dear Devs thanks for taking your time and maki...</td>\n",
       "    </tr>\n",
       "    <tr>\n",
       "      <td>4</td>\n",
       "      <td>Beat Saber</td>\n",
       "      <td>6</td>\n",
       "      <td>6.0</td>\n",
       "      <td>1.000000</td>\n",
       "      <td>80.500000</td>\n",
       "      <td>When I pull off a really difficult section I g...</td>\n",
       "    </tr>\n",
       "    <tr>\n",
       "      <td>10</td>\n",
       "      <td>Expansion - Hearts of Iron IV: Man the Guns</td>\n",
       "      <td>2</td>\n",
       "      <td>2.0</td>\n",
       "      <td>1.000000</td>\n",
       "      <td>735.000000</td>\n",
       "      <td>&amp;gt Played as German Reich&amp;gt Declare war on B...</td>\n",
       "    </tr>\n",
       "    <tr>\n",
       "      <td>12</td>\n",
       "      <td>Farming Simulator 19</td>\n",
       "      <td>9</td>\n",
       "      <td>5.0</td>\n",
       "      <td>0.555556</td>\n",
       "      <td>234.000000</td>\n",
       "      <td>After playing for just a couple hours I alread...</td>\n",
       "    </tr>\n",
       "    <tr>\n",
       "      <td>14</td>\n",
       "      <td>Foundation</td>\n",
       "      <td>9</td>\n",
       "      <td>7.0</td>\n",
       "      <td>0.777778</td>\n",
       "      <td>17.777778</td>\n",
       "      <td>Wow! I have been wanting a good Medieval town ...</td>\n",
       "    </tr>\n",
       "    <tr>\n",
       "      <td>15</td>\n",
       "      <td>GOD EATER 3</td>\n",
       "      <td>8</td>\n",
       "      <td>8.0</td>\n",
       "      <td>1.000000</td>\n",
       "      <td>51.125000</td>\n",
       "      <td>Were you a fan of the previous God Eater title...</td>\n",
       "    </tr>\n",
       "    <tr>\n",
       "      <td>20</td>\n",
       "      <td>Kenshi</td>\n",
       "      <td>9</td>\n",
       "      <td>9.0</td>\n",
       "      <td>1.000000</td>\n",
       "      <td>577.777778</td>\n",
       "      <td>Lost a leg bled out crawling through the deser...</td>\n",
       "    </tr>\n",
       "    <tr>\n",
       "      <td>23</td>\n",
       "      <td>Moonlighter</td>\n",
       "      <td>9</td>\n",
       "      <td>4.0</td>\n",
       "      <td>0.444444</td>\n",
       "      <td>14.000000</td>\n",
       "      <td>I won't tell you if you'll like it or not. I'l...</td>\n",
       "    </tr>\n",
       "    <tr>\n",
       "      <td>25</td>\n",
       "      <td>NBA 2K19</td>\n",
       "      <td>9</td>\n",
       "      <td>0.0</td>\n",
       "      <td>0.000000</td>\n",
       "      <td>339.333333</td>\n",
       "      <td>Money grubbing game designers don't know the d...</td>\n",
       "    </tr>\n",
       "    <tr>\n",
       "      <td>26</td>\n",
       "      <td>Overcooked! 2</td>\n",
       "      <td>5</td>\n",
       "      <td>4.0</td>\n",
       "      <td>0.800000</td>\n",
       "      <td>25.800000</td>\n",
       "      <td>As a returning player 6/10 for those new to th...</td>\n",
       "    </tr>\n",
       "    <tr>\n",
       "      <td>33</td>\n",
       "      <td>Sid Meier's Civilization® VI: Gathering Storm</td>\n",
       "      <td>3</td>\n",
       "      <td>0.0</td>\n",
       "      <td>0.000000</td>\n",
       "      <td>71.333333</td>\n",
       "      <td>New EULA \"The information we collect may inclu...</td>\n",
       "    </tr>\n",
       "    <tr>\n",
       "      <td>35</td>\n",
       "      <td>Sid Meier’s Civilization® VI: Rise and Fall</td>\n",
       "      <td>3</td>\n",
       "      <td>0.0</td>\n",
       "      <td>0.000000</td>\n",
       "      <td>71.333333</td>\n",
       "      <td>New EULA \"The information we collect may inclu...</td>\n",
       "    </tr>\n",
       "    <tr>\n",
       "      <td>39</td>\n",
       "      <td>Subnautica: Below Zero</td>\n",
       "      <td>8</td>\n",
       "      <td>8.0</td>\n",
       "      <td>1.000000</td>\n",
       "      <td>9.875000</td>\n",
       "      <td>Reminder to all Subnautica Classic released in...</td>\n",
       "    </tr>\n",
       "    <tr>\n",
       "      <td>40</td>\n",
       "      <td>Tannenberg</td>\n",
       "      <td>9</td>\n",
       "      <td>9.0</td>\n",
       "      <td>1.000000</td>\n",
       "      <td>15.333333</td>\n",
       "      <td>When battlefield 1 came out and we all were li...</td>\n",
       "    </tr>\n",
       "    <tr>\n",
       "      <td>43</td>\n",
       "      <td>Tom Clancy's Rainbow Six® Siege</td>\n",
       "      <td>9</td>\n",
       "      <td>9.0</td>\n",
       "      <td>1.000000</td>\n",
       "      <td>913.111111</td>\n",
       "      <td>Nice Game &amp;lt 3Ich spiele schon seit längerer ...</td>\n",
       "    </tr>\n",
       "    <tr>\n",
       "      <td>45</td>\n",
       "      <td>Wargroove</td>\n",
       "      <td>8</td>\n",
       "      <td>7.0</td>\n",
       "      <td>0.875000</td>\n",
       "      <td>94.500000</td>\n",
       "      <td>It's like Advance Wars with a coat of Fire Emb...</td>\n",
       "    </tr>\n",
       "  </tbody>\n",
       "</table>\n",
       "</div>"
      ],
      "text/plain": [
       "                                            title  review_count  \\\n",
       "0                    ACE COMBAT™ 7: SKIES UNKNOWN             8   \n",
       "3                    Battlefleet Gothic: Armada 2             8   \n",
       "4                                      Beat Saber             6   \n",
       "10    Expansion - Hearts of Iron IV: Man the Guns             2   \n",
       "12                           Farming Simulator 19             9   \n",
       "14                                     Foundation             9   \n",
       "15                                    GOD EATER 3             8   \n",
       "20                                         Kenshi             9   \n",
       "23                                    Moonlighter             9   \n",
       "25                                       NBA 2K19             9   \n",
       "26                                  Overcooked! 2             5   \n",
       "33  Sid Meier's Civilization® VI: Gathering Storm             3   \n",
       "35    Sid Meier’s Civilization® VI: Rise and Fall             3   \n",
       "39                         Subnautica: Below Zero             8   \n",
       "40                                     Tannenberg             9   \n",
       "43                Tom Clancy's Rainbow Six® Siege             9   \n",
       "45                                      Wargroove             8   \n",
       "\n",
       "    recommendation_count  recommendation_ratio  avg_playtime  \\\n",
       "0                    8.0              1.000000     19.750000   \n",
       "3                    6.0              0.750000     62.750000   \n",
       "4                    6.0              1.000000     80.500000   \n",
       "10                   2.0              1.000000    735.000000   \n",
       "12                   5.0              0.555556    234.000000   \n",
       "14                   7.0              0.777778     17.777778   \n",
       "15                   8.0              1.000000     51.125000   \n",
       "20                   9.0              1.000000    577.777778   \n",
       "23                   4.0              0.444444     14.000000   \n",
       "25                   0.0              0.000000    339.333333   \n",
       "26                   4.0              0.800000     25.800000   \n",
       "33                   0.0              0.000000     71.333333   \n",
       "35                   0.0              0.000000     71.333333   \n",
       "39                   8.0              1.000000      9.875000   \n",
       "40                   9.0              1.000000     15.333333   \n",
       "43                   9.0              1.000000    913.111111   \n",
       "45                   7.0              0.875000     94.500000   \n",
       "\n",
       "                                     reviews_combined  \n",
       "0   Oh man it's been at least a decade since Ace C...  \n",
       "3   Dear Devs thanks for taking your time and maki...  \n",
       "4   When I pull off a really difficult section I g...  \n",
       "10  &gt Played as German Reich&gt Declare war on B...  \n",
       "12  After playing for just a couple hours I alread...  \n",
       "14  Wow! I have been wanting a good Medieval town ...  \n",
       "15  Were you a fan of the previous God Eater title...  \n",
       "20  Lost a leg bled out crawling through the deser...  \n",
       "23  I won't tell you if you'll like it or not. I'l...  \n",
       "25  Money grubbing game designers don't know the d...  \n",
       "26  As a returning player 6/10 for those new to th...  \n",
       "33  New EULA \"The information we collect may inclu...  \n",
       "35  New EULA \"The information we collect may inclu...  \n",
       "39  Reminder to all Subnautica Classic released in...  \n",
       "40  When battlefield 1 came out and we all were li...  \n",
       "43  Nice Game &lt 3Ich spiele schon seit längerer ...  \n",
       "45  It's like Advance Wars with a coat of Fire Emb...  "
      ]
     },
     "execution_count": 136,
     "metadata": {},
     "output_type": "execute_result"
    }
   ],
   "source": [
    "games_reviewed.loc[games_reviewed['review_count'] < 10].head(100)"
   ]
  },
  {
   "cell_type": "markdown",
   "metadata": {},
   "source": [
    "## Save"
   ]
  },
  {
   "cell_type": "code",
   "execution_count": 137,
   "metadata": {},
   "outputs": [],
   "source": [
    "# data_temp.to_csv('./data/steam_review_cleaned.csv')"
   ]
  },
  {
   "cell_type": "code",
   "execution_count": 138,
   "metadata": {},
   "outputs": [],
   "source": [
    "games_reviewed.to_csv('./data/steam_game_reviews.csv')"
   ]
  },
  {
   "cell_type": "code",
   "execution_count": null,
   "metadata": {},
   "outputs": [],
   "source": []
  }
 ],
 "metadata": {
  "interpreter": {
   "hash": "54bb09e0e1c4210a291a7e714438edc97697bb974e48d047e7feb14fe22a9873"
  },
  "kernelspec": {
   "display_name": "Python 3.7.4 64-bit",
   "language": "python",
   "name": "python3"
  },
  "language_info": {
   "codemirror_mode": {
    "name": "ipython",
    "version": 3
   },
   "file_extension": ".py",
   "mimetype": "text/x-python",
   "name": "python",
   "nbconvert_exporter": "python",
   "pygments_lexer": "ipython3",
   "version": "3.7.4"
  },
  "orig_nbformat": 4
 },
 "nbformat": 4,
 "nbformat_minor": 2
}
